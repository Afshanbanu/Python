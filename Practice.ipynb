{
 "cells": [
  {
   "cell_type": "code",
   "execution_count": 1,
   "id": "b89e1e9d",
   "metadata": {},
   "outputs": [
    {
     "name": "stdout",
     "output_type": "stream",
     "text": [
      "30\n"
     ]
    }
   ],
   "source": [
    "a=10\n",
    "b=20\n",
    "print(a+b)"
   ]
  },
  {
   "cell_type": "code",
   "execution_count": 2,
   "id": "df387ae3",
   "metadata": {},
   "outputs": [
    {
     "name": "stdout",
     "output_type": "stream",
     "text": [
      "this is print function\n",
      "hello\n",
      "the value of b  is 23\n"
     ]
    }
   ],
   "source": [
    "a='hello'\n",
    "b=23\n",
    "print('this is print function')\n",
    "print(a)\n",
    "print(\"the value of b  is\", b)"
   ]
  },
  {
   "cell_type": "code",
   "execution_count": 1,
   "id": "fb22489c",
   "metadata": {},
   "outputs": [
    {
     "name": "stdout",
     "output_type": "stream",
     "text": [
      "enter your namejohn\n",
      "your name is  john\n"
     ]
    }
   ],
   "source": [
    "name=input('enter your name')\n",
    "print('''your name is ''',name)"
   ]
  },
  {
   "cell_type": "code",
   "execution_count": 3,
   "id": "56f053d6",
   "metadata": {},
   "outputs": [
    {
     "name": "stdout",
     "output_type": "stream",
     "text": [
      "enter no110\n",
      "enter no220\n",
      "30\n"
     ]
    }
   ],
   "source": [
    "a=int(input('enter no1'))\n",
    "b=int(input('enter no2'))\n",
    "print(a+b)"
   ]
  },
  {
   "cell_type": "code",
   "execution_count": 2,
   "id": "69b872b6",
   "metadata": {},
   "outputs": [
    {
     "name": "stdout",
     "output_type": "stream",
     "text": [
      "hello\n"
     ]
    }
   ],
   "source": [
    "#this is single line comment\n",
    "'''this\n",
    "is multi\n",
    "line comments'''\n",
    "print('hello')"
   ]
  },
  {
   "cell_type": "code",
   "execution_count": 13,
   "id": "911c045d",
   "metadata": {},
   "outputs": [
    {
     "name": "stdout",
     "output_type": "stream",
     "text": [
      "yrto\n"
     ]
    }
   ],
   "source": [
    "print('hello\\ryrto')"
   ]
  },
  {
   "cell_type": "code",
   "execution_count": 12,
   "id": "7f2d3e94",
   "metadata": {},
   "outputs": [
    {
     "name": "stdout",
     "output_type": "stream",
     "text": [
      "hello 'john'\n"
     ]
    }
   ],
   "source": [
    "print(\"hello \\'john\\'\")"
   ]
  },
  {
   "cell_type": "code",
   "execution_count": 18,
   "id": "4d9feddd",
   "metadata": {},
   "outputs": [
    {
     "name": "stdout",
     "output_type": "stream",
     "text": [
      "Name Marks Age\n",
      "John Doe                                                                                            80.670000   27\n"
     ]
    }
   ],
   "source": [
    "print(\"Name Marks Age\")\n",
    "print( \"%s %100f %4d\" % (\"John Doe\", 80.67, 27)) "
   ]
  },
  {
   "cell_type": "code",
   "execution_count": 19,
   "id": "a51f7e50",
   "metadata": {},
   "outputs": [
    {
     "name": "stdout",
     "output_type": "stream",
     "text": [
      "the smaller no is\n",
      "20\n"
     ]
    }
   ],
   "source": [
    "a=10\n",
    "b=20\n",
    "if a>b:\n",
    "    print('the bigger no is')\n",
    "    print(a)\n",
    "else:\n",
    "    print('the smaller no is')\n",
    "    print(b)"
   ]
  },
  {
   "cell_type": "code",
   "execution_count": 20,
   "id": "16eaf9db",
   "metadata": {},
   "outputs": [
    {
     "name": "stdout",
     "output_type": "stream",
     "text": [
      "\n",
      "Welcome to Python 3.9's help utility!\n",
      "\n",
      "If this is your first time using Python, you should definitely check out\n",
      "the tutorial on the Internet at https://docs.python.org/3.9/tutorial/.\n",
      "\n",
      "Enter the name of any module, keyword, or topic to get help on writing\n",
      "Python programs and using Python modules.  To quit this help utility and\n",
      "return to the interpreter, just type \"quit\".\n",
      "\n",
      "To get a list of available modules, keywords, symbols, or topics, type\n",
      "\"modules\", \"keywords\", \"symbols\", or \"topics\".  Each module also comes\n",
      "with a one-line summary of what it does; to list the modules whose name\n",
      "or summary contain a given string such as \"spam\", type \"modules spam\".\n",
      "\n",
      "help> keywords\n",
      "\n",
      "Here is a list of the Python keywords.  Enter any keyword to get more help.\n",
      "\n",
      "False               break               for                 not\n",
      "None                class               from                or\n",
      "True                continue            global              pass\n",
      "__peg_parser__      def                 if                  raise\n",
      "and                 del                 import              return\n",
      "as                  elif                in                  try\n",
      "assert              else                is                  while\n",
      "async               except              lambda              with\n",
      "await               finally             nonlocal            yield\n",
      "\n",
      "help> exit\n",
      "No Python documentation found for 'exit'.\n",
      "Use help() to get the interactive help utility.\n",
      "Use help(str) for help on the str class.\n",
      "\n",
      "help> quit\n",
      "\n",
      "You are now leaving help and returning to the Python interpreter.\n",
      "If you want to ask for help on a particular object directly from the\n",
      "interpreter, you can type \"help(object)\".  Executing \"help('string')\"\n",
      "has the same effect as typing a particular string at the help> prompt.\n"
     ]
    }
   ],
   "source": [
    "help()"
   ]
  },
  {
   "cell_type": "code",
   "execution_count": 23,
   "id": "50def772",
   "metadata": {},
   "outputs": [
    {
     "name": "stdout",
     "output_type": "stream",
     "text": [
      "89\n"
     ]
    }
   ],
   "source": [
    "afe=89\n",
    "print(afe)"
   ]
  },
  {
   "cell_type": "code",
   "execution_count": 24,
   "id": "4283e7c2",
   "metadata": {},
   "outputs": [
    {
     "name": "stdout",
     "output_type": "stream",
     "text": [
      "12 12 12\n"
     ]
    }
   ],
   "source": [
    "a=b=c=12\n",
    "print(c,a,b)"
   ]
  },
  {
   "cell_type": "code",
   "execution_count": 27,
   "id": "9ada5fa9",
   "metadata": {},
   "outputs": [
    {
     "name": "stdout",
     "output_type": "stream",
     "text": [
      "hello 12 45\n"
     ]
    }
   ],
   "source": [
    "a,b,c=12,45,'hello'\n",
    "print(c,a,b)"
   ]
  },
  {
   "cell_type": "code",
   "execution_count": 28,
   "id": "cdd2b0c4",
   "metadata": {},
   "outputs": [
    {
     "name": "stdout",
     "output_type": "stream",
     "text": [
      "(7+11j)\n"
     ]
    }
   ],
   "source": [
    "a=complex(4,7)\n",
    "b=3+4j\n",
    "print(a+b)"
   ]
  },
  {
   "cell_type": "code",
   "execution_count": 29,
   "id": "ce139b60",
   "metadata": {},
   "outputs": [
    {
     "name": "stdout",
     "output_type": "stream",
     "text": [
      "12\n"
     ]
    }
   ],
   "source": [
    "print(int('1100',2))"
   ]
  },
  {
   "cell_type": "code",
   "execution_count": 30,
   "id": "207c64d4",
   "metadata": {},
   "outputs": [
    {
     "name": "stdout",
     "output_type": "stream",
     "text": [
      "24\n"
     ]
    }
   ],
   "source": [
    "print(int(24.8))"
   ]
  },
  {
   "cell_type": "code",
   "execution_count": 32,
   "id": "2f1d1ebd",
   "metadata": {},
   "outputs": [
    {
     "ename": "ValueError",
     "evalue": "could not convert string to float: 'abc'",
     "output_type": "error",
     "traceback": [
      "\u001b[1;31m---------------------------------------------------------------------------\u001b[0m",
      "\u001b[1;31mValueError\u001b[0m                                Traceback (most recent call last)",
      "Input \u001b[1;32mIn [32]\u001b[0m, in \u001b[0;36m<cell line: 1>\u001b[1;34m()\u001b[0m\n\u001b[1;32m----> 1\u001b[0m \u001b[38;5;28mprint\u001b[39m(\u001b[38;5;28;43mfloat\u001b[39;49m\u001b[43m(\u001b[49m\u001b[38;5;124;43m\"\u001b[39;49m\u001b[38;5;124;43mabc\u001b[39;49m\u001b[38;5;124;43m\"\u001b[39;49m\u001b[43m)\u001b[49m)\n",
      "\u001b[1;31mValueError\u001b[0m: could not convert string to float: 'abc'"
     ]
    }
   ],
   "source": [
    "print(float(\"abc\"))"
   ]
  },
  {
   "cell_type": "code",
   "execution_count": 37,
   "id": "c4fff77f",
   "metadata": {},
   "outputs": [
    {
     "name": "stdout",
     "output_type": "stream",
     "text": [
      "4\n",
      "5\n"
     ]
    }
   ],
   "source": [
    "print(round(4.3489))\n",
    "print(round(4.6489))"
   ]
  },
  {
   "cell_type": "code",
   "execution_count": 38,
   "id": "34da4496",
   "metadata": {},
   "outputs": [
    {
     "name": "stdout",
     "output_type": "stream",
     "text": [
      "6\n",
      "8\n"
     ]
    }
   ],
   "source": [
    "print(round(6.5))\n",
    "print(round(7.5))"
   ]
  },
  {
   "cell_type": "code",
   "execution_count": 42,
   "id": "962c6bf6",
   "metadata": {},
   "outputs": [
    {
     "name": "stdout",
     "output_type": "stream",
     "text": [
      "True\n",
      "False\n"
     ]
    }
   ],
   "source": [
    "comp=True\n",
    "print(comp)\n",
    "print(56>89)"
   ]
  },
  {
   "cell_type": "code",
   "execution_count": 43,
   "id": "47c21cf1",
   "metadata": {},
   "outputs": [
    {
     "name": "stdout",
     "output_type": "stream",
     "text": [
      "10 20\n",
      "20 10\n"
     ]
    }
   ],
   "source": [
    "a=10\n",
    "b=20\n",
    "print(a,b)\n",
    "c=a\n",
    "a=b\n",
    "b=c\n",
    "print(a,b)"
   ]
  },
  {
   "cell_type": "code",
   "execution_count": 44,
   "id": "035d9e22",
   "metadata": {},
   "outputs": [
    {
     "name": "stdout",
     "output_type": "stream",
     "text": [
      "10 20\n",
      "20 10\n"
     ]
    }
   ],
   "source": [
    "a=10\n",
    "b=20\n",
    "print(a,b)\n",
    "a,b=b,a\n",
    "print(a,b)"
   ]
  },
  {
   "cell_type": "code",
   "execution_count": 2,
   "id": "0fd7a523",
   "metadata": {},
   "outputs": [
    {
     "name": "stdout",
     "output_type": "stream",
     "text": [
      "36\n"
     ]
    }
   ],
   "source": [
    "print(ord('$'))"
   ]
  },
  {
   "cell_type": "code",
   "execution_count": 4,
   "id": "1ba1479d",
   "metadata": {},
   "outputs": [
    {
     "name": "stdout",
     "output_type": "stream",
     "text": [
      "B\n"
     ]
    }
   ],
   "source": [
    "print(chr(66))"
   ]
  },
  {
   "cell_type": "code",
   "execution_count": 5,
   "id": "f72efcb9",
   "metadata": {},
   "outputs": [
    {
     "name": "stdout",
     "output_type": "stream",
     "text": [
      "8\n",
      "5\n",
      "-1\n",
      "6\n",
      "6.666666666666667\n",
      "6\n"
     ]
    }
   ],
   "source": [
    "print(2**3)\n",
    "print(2+3)\n",
    "print(2-3)\n",
    "print(2*3)\n",
    "print(20/3)\n",
    "print(20//3)"
   ]
  },
  {
   "cell_type": "code",
   "execution_count": 6,
   "id": "5fc09cd5",
   "metadata": {},
   "outputs": [
    {
     "name": "stdout",
     "output_type": "stream",
     "text": [
      "False\n",
      "True\n",
      "False\n",
      "False\n"
     ]
    }
   ],
   "source": [
    "a=10\n",
    "b=20\n",
    "print(a>b)\n",
    "print(a<b)\n",
    "print(a>=b)\n",
    "print(a==b)"
   ]
  },
  {
   "cell_type": "code",
   "execution_count": 13,
   "id": "b1172c31",
   "metadata": {},
   "outputs": [
    {
     "name": "stdout",
     "output_type": "stream",
     "text": [
      "20\n"
     ]
    }
   ],
   "source": [
    "a, b = 30, 20 \n",
    "min = a if a < b else b \n",
    "print(min) \n"
   ]
  },
  {
   "cell_type": "code",
   "execution_count": 16,
   "id": "7e47728e",
   "metadata": {},
   "outputs": [
    {
     "name": "stdout",
     "output_type": "stream",
     "text": [
      "30000\n"
     ]
    }
   ],
   "source": [
    "a*=10\n",
    "print(a)"
   ]
  },
  {
   "cell_type": "code",
   "execution_count": 19,
   "id": "a318023b",
   "metadata": {},
   "outputs": [
    {
     "name": "stdout",
     "output_type": "stream",
     "text": [
      "0\n",
      "2\n"
     ]
    }
   ],
   "source": [
    "print(10%2)\n",
    "print(2%4)"
   ]
  },
  {
   "cell_type": "code",
   "execution_count": 24,
   "id": "5fe2123e",
   "metadata": {},
   "outputs": [
    {
     "name": "stdout",
     "output_type": "stream",
     "text": [
      "0\n",
      "14\n",
      "16\n",
      "4\n",
      "-11\n",
      "14\n"
     ]
    }
   ],
   "source": [
    "print(10&4)\n",
    "print(10|4)\n",
    "print(8<<1)\n",
    "print(8>>1)\n",
    "print(~10)\n",
    "print(10^4)"
   ]
  },
  {
   "cell_type": "code",
   "execution_count": 26,
   "id": "924f3324",
   "metadata": {},
   "outputs": [
    {
     "name": "stdout",
     "output_type": "stream",
     "text": [
      "False\n",
      "True\n",
      "False\n"
     ]
    }
   ],
   "source": [
    "a=10\n",
    "b=20\n",
    "print((a>20) and b>50)\n",
    "print(a<20 or b>50)\n",
    "print(not a<20)"
   ]
  },
  {
   "cell_type": "code",
   "execution_count": 27,
   "id": "8387ad5a",
   "metadata": {},
   "outputs": [
    {
     "name": "stdout",
     "output_type": "stream",
     "text": [
      "False\n",
      "False\n",
      "True\n"
     ]
    }
   ],
   "source": [
    "l=[10,30,50]\n",
    "s=\"hello all\"\n",
    "print(40 in l)\n",
    "print('is' in s)\n",
    "print('not' in 'hrl not today')"
   ]
  },
  {
   "cell_type": "code",
   "execution_count": 33,
   "id": "5686a208",
   "metadata": {},
   "outputs": [
    {
     "name": "stdout",
     "output_type": "stream",
     "text": [
      "2559737752144\n",
      "2559737752144\n",
      "2559737752464\n",
      "True\n",
      "False\n",
      "<class 'int'>\n"
     ]
    }
   ],
   "source": [
    "a=10\n",
    "print(id(a))\n",
    "b=10\n",
    "print(id(b))\n",
    "c=20\n",
    "print(id(c))\n",
    "print(a is b)\n",
    "print(a is c)\n",
    "print(type(a))"
   ]
  },
  {
   "cell_type": "code",
   "execution_count": 34,
   "id": "e393f8fd",
   "metadata": {},
   "outputs": [
    {
     "name": "stdout",
     "output_type": "stream",
     "text": [
      "2557676522432\n",
      "2557676514880\n",
      "False\n",
      "<class 'list'>\n"
     ]
    }
   ],
   "source": [
    "l=[1,2,3]\n",
    "l1=[1,2,3]\n",
    "print(id(l))\n",
    "print(id(l1))\n",
    "print(l is l1)\n",
    "print(type(l))"
   ]
  },
  {
   "cell_type": "code",
   "execution_count": 35,
   "id": "99945cdb",
   "metadata": {},
   "outputs": [
    {
     "name": "stdout",
     "output_type": "stream",
     "text": [
      "<class 'float'> <class 'tuple'>\n"
     ]
    }
   ],
   "source": [
    "x=12.7\n",
    "t=(78,6)\n",
    "print(type(x),type(t))"
   ]
  },
  {
   "cell_type": "code",
   "execution_count": 36,
   "id": "aadac819",
   "metadata": {},
   "outputs": [
    {
     "name": "stdout",
     "output_type": "stream",
     "text": [
      "8\n"
     ]
    }
   ],
   "source": [
    "import operator as o\n",
    "print(o.pow(2,3))\n"
   ]
  },
  {
   "cell_type": "code",
   "execution_count": 37,
   "id": "0e3580d1",
   "metadata": {},
   "outputs": [
    {
     "name": "stdout",
     "output_type": "stream",
     "text": [
      "hello all\n",
      "<class 'str'>\n",
      "hello allyou\n",
      "hello allhello allhello all\n",
      "True\n"
     ]
    }
   ],
   "source": [
    "s='hello all'\n",
    "print(s)\n",
    "print(type(s))\n",
    "print(s+'you')\n",
    "print(s*3)\n",
    "print('all' in s)"
   ]
  },
  {
   "cell_type": "code",
   "execution_count": 47,
   "id": "aeb2a525",
   "metadata": {},
   "outputs": [
    {
     "name": "stdout",
     "output_type": "stream",
     "text": [
      "c\n",
      "i\n",
      "k\n",
      "abcdefghij\n",
      "acegi\n",
      "adgj\n",
      "nmlkjih\n",
      "abcdefghijklmn\n",
      "nmlkjihgfedcba\n"
     ]
    }
   ],
   "source": [
    "s='abcdefghijklmn'\n",
    "print(s[2])\n",
    "print(s[8])\n",
    "print(s[-4])\n",
    "\n",
    "print(s[0:10])\n",
    "print(s[0:10:2])\n",
    "print(s[0:10:3])\n",
    "\n",
    "print(s[-1:-8:-1])\n",
    "print(s[::])\n",
    "print(s[::-1])"
   ]
  },
  {
   "cell_type": "code",
   "execution_count": 3,
   "id": "d21cd272",
   "metadata": {},
   "outputs": [
    {
     "name": "stdout",
     "output_type": "stream",
     "text": [
      "5\n",
      "True\n",
      "h\n",
      "e\n",
      "l\n",
      "l\n",
      "o\n"
     ]
    },
    {
     "ename": "TypeError",
     "evalue": "'str' object does not support item assignment",
     "output_type": "error",
     "traceback": [
      "\u001b[1;31m---------------------------------------------------------------------------\u001b[0m",
      "\u001b[1;31mTypeError\u001b[0m                                 Traceback (most recent call last)",
      "Input \u001b[1;32mIn [3]\u001b[0m, in \u001b[0;36m<cell line: 8>\u001b[1;34m()\u001b[0m\n\u001b[0;32m      6\u001b[0m \u001b[38;5;28;01mfor\u001b[39;00m x \u001b[38;5;129;01min\u001b[39;00m s:\n\u001b[0;32m      7\u001b[0m     \u001b[38;5;28mprint\u001b[39m(x)\n\u001b[1;32m----> 8\u001b[0m s[\u001b[38;5;241m1\u001b[39m]\u001b[38;5;241m=\u001b[39m\u001b[38;5;124m'\u001b[39m\u001b[38;5;124mc\u001b[39m\u001b[38;5;124m'\u001b[39m\n",
      "\u001b[1;31mTypeError\u001b[0m: 'str' object does not support item assignment"
     ]
    }
   ],
   "source": [
    "s='hello'\n",
    "print(len(s))\n",
    "print('e' in s)\n",
    "if 'y' in s:\n",
    "    print('present')\n",
    "for x in s:\n",
    "    print(x)\n",
    "s[1]='c'"
   ]
  },
  {
   "cell_type": "code",
   "execution_count": 14,
   "id": "00258ee8",
   "metadata": {},
   "outputs": [
    {
     "name": "stdout",
     "output_type": "stream",
     "text": [
      "2\n",
      "1\n",
      "0\n",
      "1\n",
      " HELLO WORLD\n",
      " hello world\n",
      " hello world\n",
      " Hello World\n",
      " hello world\n",
      "hello world\n"
     ]
    }
   ],
   "source": [
    "x=' hello world'\n",
    "print(x.count('o'))\n",
    "print(x.count('o',0,7))\n",
    "print(x.count('O'))\n",
    "print(x.count('lo'))\n",
    "print(x.upper())\n",
    "print(x)\n",
    "print(x.lower())\n",
    "print(x.title())\n",
    "print(x.capitalize())\n",
    "print(x.strip())"
   ]
  },
  {
   "cell_type": "code",
   "execution_count": 27,
   "id": "55b53517",
   "metadata": {},
   "outputs": [
    {
     "name": "stdout",
     "output_type": "stream",
     "text": [
      "True\n",
      "False\n",
      "True\n",
      "False\n",
      "False\n",
      "False\n"
     ]
    }
   ],
   "source": [
    "x='helloworld87'\n",
    "print(x.startswith('he'))\n",
    "print(x.endswith('he'))\n",
    "print(x.isalnum())\n",
    "print(x.isalpha())\n",
    "print(x.isdigit())\n",
    "print(x.isupper())"
   ]
  },
  {
   "cell_type": "code",
   "execution_count": 30,
   "id": "c5ada1d8",
   "metadata": {},
   "outputs": [
    {
     "name": "stdout",
     "output_type": "stream",
     "text": [
      "['27', '12', '2016']\n",
      "['27', '12-2016']\n",
      "['27-12', '2016']\n"
     ]
    }
   ],
   "source": [
    "str1 = \"27-12-2016\"\n",
    "print(str1.split('-'))\n",
    "print(str1.split('-',1))\n",
    "print(str1.rsplit('-',1))"
   ]
  },
  {
   "cell_type": "code",
   "execution_count": 33,
   "id": "33818287",
   "metadata": {},
   "outputs": [
    {
     "name": "stdout",
     "output_type": "stream",
     "text": [
      "3\n"
     ]
    }
   ],
   "source": [
    "x=\"how are you\"\n",
    "print(len(x.split(' ')))"
   ]
  },
  {
   "cell_type": "code",
   "execution_count": 35,
   "id": "4f3b687c",
   "metadata": {},
   "outputs": [
    {
     "name": "stdout",
     "output_type": "stream",
     "text": [
      "27-12-2016\n",
      "how are you\n"
     ]
    }
   ],
   "source": [
    "x=['27', '12', '2016']\n",
    "print('-'.join(x))\n",
    "x=[\"how\", \"are\", \"you\"]\n",
    "print(' '.join(x))"
   ]
  },
  {
   "cell_type": "code",
   "execution_count": 37,
   "id": "7eec85e5",
   "metadata": {},
   "outputs": [
    {
     "name": "stdout",
     "output_type": "stream",
     "text": [
      "20\n",
      "70\n",
      "e\n",
      "o\n"
     ]
    }
   ],
   "source": [
    "x=[20,70,45]\n",
    "print(min(x))\n",
    "print(max(x))\n",
    "x='hello'\n",
    "print(min(x))\n",
    "print(max(x))"
   ]
  },
  {
   "cell_type": "code",
   "execution_count": 39,
   "id": "f3b00ffc",
   "metadata": {},
   "outputs": [
    {
     "name": "stdout",
     "output_type": "stream",
     "text": [
      "Enter the word:madam\n",
      "The is palindrome\n"
     ]
    }
   ],
   "source": [
    "word=input('Enter the word:')\n",
    "if word[::]==word[::-1]:\n",
    "    print('The is palindrome')\n",
    "else:\n",
    "    print('The is not a palindrome')"
   ]
  },
  {
   "cell_type": "code",
   "execution_count": 41,
   "id": "27fc5a4f",
   "metadata": {},
   "outputs": [
    {
     "name": "stdout",
     "output_type": "stream",
     "text": [
      "(20, 10, 20, 'hi', 89.9)\n",
      "5\n",
      "yes\n",
      "20\n",
      "10\n",
      "20\n",
      "hi\n",
      "89.9\n"
     ]
    }
   ],
   "source": [
    "t=(20,10,20,'hi',89.9)\n",
    "print(t)\n",
    "print(len(t))\n",
    "#t[0]=30\n",
    "if 10 in t:\n",
    "    print('yes')\n",
    "for x in t:\n",
    "    print(x)"
   ]
  },
  {
   "cell_type": "code",
   "execution_count": 42,
   "id": "03865d2a",
   "metadata": {},
   "outputs": [
    {
     "name": "stdout",
     "output_type": "stream",
     "text": [
      "('m', 'o', 'h', 'i', 't')\n"
     ]
    }
   ],
   "source": [
    "str1 = \"mohit\"\n",
    "print(tuple(str1))\n"
   ]
  },
  {
   "cell_type": "code",
   "execution_count": 44,
   "id": "57fad3fd",
   "metadata": {},
   "outputs": [
    {
     "name": "stdout",
     "output_type": "stream",
     "text": [
      "{'hi', 20, 90.7, 40, 56}\n"
     ]
    },
    {
     "ename": "TypeError",
     "evalue": "'set' object does not support item assignment",
     "output_type": "error",
     "traceback": [
      "\u001b[1;31m---------------------------------------------------------------------------\u001b[0m",
      "\u001b[1;31mTypeError\u001b[0m                                 Traceback (most recent call last)",
      "Input \u001b[1;32mIn [44]\u001b[0m, in \u001b[0;36m<cell line: 3>\u001b[1;34m()\u001b[0m\n\u001b[0;32m      1\u001b[0m s\u001b[38;5;241m=\u001b[39m{\u001b[38;5;241m20\u001b[39m,\u001b[38;5;241m40\u001b[39m,\u001b[38;5;241m56\u001b[39m,\u001b[38;5;124m'\u001b[39m\u001b[38;5;124mhi\u001b[39m\u001b[38;5;124m'\u001b[39m,\u001b[38;5;241m90.7\u001b[39m,\u001b[38;5;241m20\u001b[39m}\n\u001b[0;32m      2\u001b[0m \u001b[38;5;28mprint\u001b[39m(s)\n\u001b[1;32m----> 3\u001b[0m s[\u001b[38;5;241m0\u001b[39m]\u001b[38;5;241m=\u001b[39m\u001b[38;5;241m89\u001b[39m\n",
      "\u001b[1;31mTypeError\u001b[0m: 'set' object does not support item assignment"
     ]
    }
   ],
   "source": [
    "s={20,40,56,'hi',90.7,20}\n",
    "print(s)\n",
    "s[0]=89"
   ]
  },
  {
   "cell_type": "code",
   "execution_count": 45,
   "id": "b8b573dc",
   "metadata": {},
   "outputs": [
    {
     "name": "stdout",
     "output_type": "stream",
     "text": [
      "{40, 10, 30}\n",
      "{20}\n",
      "{50, 20, 40, 10, 60, 30}\n",
      "{40, 10, 50, 60, 30}\n"
     ]
    }
   ],
   "source": [
    "a={ 10,20,30,40 }\n",
    "b={ 20,50,60 }\n",
    "print(a-b )            # What is in a but not in b\n",
    "print(a&b)\t# What is in a and b , Intersection\n",
    "print(a|b)            # What is in a or b , Union\n",
    "print(a^b)            "
   ]
  },
  {
   "cell_type": "code",
   "execution_count": 48,
   "id": "706cb20e",
   "metadata": {},
   "outputs": [
    {
     "name": "stdout",
     "output_type": "stream",
     "text": [
      "[10, 20, 'John', 20]\n",
      "20\n",
      "[10, 20, 'John', 20]\n",
      "10\n",
      "20\n",
      "John\n",
      "20\n",
      "[10, 100, 'John', 20]\n",
      "None\n",
      "[10, 100, 'John', 20, 34]\n",
      "34\n",
      "[10, 100, 'John', 20]\n"
     ]
    }
   ],
   "source": [
    "a=[ 10, 20, \"John\",20]\n",
    "print(a)\n",
    "print(a[1])\n",
    "print(a[0::])\n",
    "if 90 in a:\n",
    "    print('yes')\n",
    "for x in a:\n",
    "    print(x)\n",
    "a[1]=100\n",
    "print(a)\n",
    "print(a.append(34))\n",
    "print(a)\n",
    "print(a.pop())\n",
    "print(a)"
   ]
  },
  {
   "cell_type": "code",
   "execution_count": 54,
   "id": "daf539d1",
   "metadata": {},
   "outputs": [
    {
     "name": "stdout",
     "output_type": "stream",
     "text": [
      "None\n",
      "[10, 30, 40, 100, 200]\n",
      "None\n",
      "[10, 300, 30, 40, 100, 200]\n",
      "10\n",
      "[300, 30, 40, 100, 200]\n",
      "None\n",
      "[300, 40, 100, 200]\n"
     ]
    }
   ],
   "source": [
    "x=[10,30,40]\n",
    "print(x.extend([100,200]))\n",
    "print(x)\n",
    "print(x.insert(1,300))\n",
    "print(x)\n",
    "print(x.pop(0))\n",
    "print(x)\n",
    "print(x.remove(30))\n",
    "print(x)"
   ]
  },
  {
   "cell_type": "code",
   "execution_count": 55,
   "id": "2337b1cd",
   "metadata": {},
   "outputs": [
    {
     "name": "stdout",
     "output_type": "stream",
     "text": [
      "4\n"
     ]
    }
   ],
   "source": [
    "x=6746663877790\n",
    "x=str(x)\n",
    "print(x.count('7'))"
   ]
  },
  {
   "cell_type": "code",
   "execution_count": 3,
   "id": "286c4452",
   "metadata": {},
   "outputs": [
    {
     "name": "stdout",
     "output_type": "stream",
     "text": [
      "[10, 20, 20, 40, 60]\n",
      "[20, 10, 60, 40, 20]\n"
     ]
    }
   ],
   "source": [
    "l=[20,10,60,40,20]\n",
    "print(sorted(l))\n",
    "print(l)\n"
   ]
  },
  {
   "cell_type": "code",
   "execution_count": 7,
   "id": "6059df62",
   "metadata": {},
   "outputs": [
    {
     "name": "stdout",
     "output_type": "stream",
     "text": [
      "None\n",
      "[10, 20, 20, 40, 60]\n",
      "None\n",
      "[60, 40, 20, 20, 10]\n"
     ]
    }
   ],
   "source": [
    "l=[20,10,60,40,20]\n",
    "print(l.sort())\n",
    "print(l)\n",
    "print(l.sort(reverse=True))\n",
    "print(l)"
   ]
  },
  {
   "cell_type": "code",
   "execution_count": 9,
   "id": "28cd8d5b",
   "metadata": {},
   "outputs": [
    {
     "name": "stdout",
     "output_type": "stream",
     "text": [
      "['aaaa', 'bbbbb', 'cc', 'd']\n",
      "['d', 'cc', 'aaaa', 'bbbbb']\n"
     ]
    }
   ],
   "source": [
    "l=['cc', 'aaaa','bbbbb','d']\n",
    "l.sort()\n",
    "print(l)\n",
    "l.sort(key=len)\n",
    "print(l)"
   ]
  },
  {
   "cell_type": "code",
   "execution_count": 12,
   "id": "47691157",
   "metadata": {},
   "outputs": [
    {
     "name": "stdout",
     "output_type": "stream",
     "text": [
      "None\n",
      "['d', 'bbbbb', 'aaaa', 'cc']\n",
      "['d', 'aaaa', 'cc']\n"
     ]
    }
   ],
   "source": [
    "l=['cc', 'aaaa','bbbbb','d']\n",
    "print(l.reverse())\n",
    "print(l)\n",
    "del l[1]\n",
    "print(l)"
   ]
  },
  {
   "cell_type": "code",
   "execution_count": 14,
   "id": "6b37d558",
   "metadata": {},
   "outputs": [
    {
     "name": "stdout",
     "output_type": "stream",
     "text": [
      "[('a', 4), ('b', 1), ('f', 2), ('v', 5)]\n"
     ]
    }
   ],
   "source": [
    "def fun1(x):\n",
    "    return x[1]\n",
    "list_tup = [(\"a\",4),(\"b\",1),(\"v\",5),(\"f\",2)]\n",
    "list_tup.sort(key= fun1)\n",
    "print(list_tup)"
   ]
  },
  {
   "cell_type": "code",
   "execution_count": 16,
   "id": "4ee7debd",
   "metadata": {},
   "outputs": [
    {
     "name": "stdout",
     "output_type": "stream",
     "text": [
      "[2, 4, 6, 8, 10, 12, 14, 16, 18, 20]\n",
      "[2, 4, 6, 8, 10, 12, 14, 16, 18, 20, 22, 24, 26, 28, 30, 32, 34, 36, 38, 40, 42, 44, 46, 48, 50, 52, 54, 56, 58, 60, 62, 64, 66, 68, 70, 72, 74, 76, 78, 80, 82, 84, 86, 88, 90, 92, 94, 96, 98, 100]\n"
     ]
    }
   ],
   "source": [
    "l=[2,4,6,8,10,12,14,16,18,20]\n",
    "print(l)\n",
    "l1=[x for x in range(2,101,2)]\n",
    "print(l1)"
   ]
  },
  {
   "cell_type": "code",
   "execution_count": 18,
   "id": "a9c53400",
   "metadata": {},
   "outputs": [
    {
     "name": "stdout",
     "output_type": "stream",
     "text": [
      "[4, 9, 16, 25, 36]\n",
      "[4, 9, 16, 25, 36]\n"
     ]
    }
   ],
   "source": [
    "list1 = [2,3,4,5,6]\n",
    "list2 = []\n",
    "for each in list1:\n",
    "\tlist2.append(each*each)\n",
    "print(list2)\n",
    "list2=[x*x for x in list1]\n",
    "print(list2)"
   ]
  },
  {
   "cell_type": "code",
   "execution_count": 19,
   "id": "b28b69a5",
   "metadata": {},
   "outputs": [
    {
     "name": "stdout",
     "output_type": "stream",
     "text": [
      "hello\n"
     ]
    }
   ],
   "source": [
    "l=['h', 'e', 'l','l','o'] \n",
    "print(''.join(l))"
   ]
  },
  {
   "cell_type": "code",
   "execution_count": 21,
   "id": "715ed143",
   "metadata": {},
   "outputs": [
    {
     "name": "stdout",
     "output_type": "stream",
     "text": [
      "6\n",
      "the max no is 6\n"
     ]
    }
   ],
   "source": [
    "list1 = [2,3,4,5,6]\n",
    "print(max(list1))\n",
    "m=list1[0]\n",
    "for x in list1:\n",
    "    if x>m:\n",
    "        m=x\n",
    "print(\"the max no is\",m)"
   ]
  },
  {
   "cell_type": "code",
   "execution_count": 24,
   "id": "a35e413a",
   "metadata": {},
   "outputs": [
    {
     "name": "stdout",
     "output_type": "stream",
     "text": [
      "Anurag\n",
      "{'rollno': 142, 'name': 'Anurag', 'age': 28}\n",
      "{'rollno': 142, 'name': 'Anurag', 'age': 28, 'course': 'python'}\n"
     ]
    }
   ],
   "source": [
    "D={ 'rollno' : 142, 'name' : 'Anurag', 'age' : 26 }\n",
    "print(D['name'])\n",
    "D['age']=28\n",
    "print(D)\n",
    "D['course']='python'\n",
    "print(D)"
   ]
  },
  {
   "cell_type": "code",
   "execution_count": 35,
   "id": "84e4527e",
   "metadata": {},
   "outputs": [
    {
     "name": "stdout",
     "output_type": "stream",
     "text": [
      "yes\n",
      "Amit\n",
      "Rahul\n",
      "Vivek\n",
      "Deepa\n",
      "0\n",
      "80\n",
      "0\n",
      "{'Amit': 45, 'Rahul': 80, 'Vivek': 78, 'Deepa': 67}\n",
      "5\n",
      "{'Amit': 45, 'Rahul': 80, 'Vivek': 78, 'Deepa': 67, 'Dinesh': 5}\n"
     ]
    }
   ],
   "source": [
    "D= { 'Amit':45 , 'Rahul': 80, 'Vivek': 78  , 'Deepa': 67 }\n",
    "if 'Amit' in D:\n",
    "    print('yes')\n",
    "else: \n",
    "    print('No')\n",
    "for x in D:\n",
    "    print(x)\n",
    "print(D.pop('Dinesh',0))\n",
    "print(D.get('Rahul',0))\n",
    "print(D.get('Dinesh',0))\n",
    "print(D)\n",
    "print(D.setdefault('Dinesh',5))\n",
    "print(D)"
   ]
  },
  {
   "cell_type": "code",
   "execution_count": 37,
   "id": "2a6c8ff2",
   "metadata": {},
   "outputs": [
    {
     "name": "stdout",
     "output_type": "stream",
     "text": [
      "{0: 0, 1: 1, 2: 4, 3: 9, 4: 16}\n"
     ]
    }
   ],
   "source": [
    "D = { x : x**2 for x in range(5) }\n",
    "print(D)"
   ]
  },
  {
   "cell_type": "code",
   "execution_count": 38,
   "id": "64954373",
   "metadata": {},
   "outputs": [
    {
     "name": "stdout",
     "output_type": "stream",
     "text": [
      "{'Amit': 45, 'Rahul': 80, 'Vivek': 90, 'Deepa': 67, 'john': 90}\n"
     ]
    }
   ],
   "source": [
    "D= { 'Amit':45 , 'Rahul': 80, 'Vivek': 78  , 'Deepa': 67 }\n",
    "d2={'Deepa': 67, 'Vivek': 90, 'john':90}\n",
    "D.update(d2)\n",
    "print(D)"
   ]
  },
  {
   "cell_type": "code",
   "execution_count": 44,
   "id": "8cdda6f5",
   "metadata": {},
   "outputs": [
    {
     "name": "stdout",
     "output_type": "stream",
     "text": [
      "['Amit', 'Rahul', 'Vivek', 'Deepa']\n",
      "[45, 80, 78, 67]\n",
      "[('Amit', 45), ('Rahul', 80), ('Vivek', 78), ('Deepa', 67)]\n"
     ]
    }
   ],
   "source": [
    "D= { 'Amit':45 , 'Rahul': 80, 'Vivek': 78  , 'Deepa': 67 }\n",
    "print(list(D.keys()))\n",
    "print(list(D.values()))\n",
    "print(list(D.items()))"
   ]
  },
  {
   "cell_type": "code",
   "execution_count": 45,
   "id": "5f433fef",
   "metadata": {},
   "outputs": [
    {
     "name": "stdout",
     "output_type": "stream",
     "text": [
      "89\n"
     ]
    }
   ],
   "source": [
    "D={ 'roll':142, 'marks':[70,89,56,65], 'city':\"Delhi\" } \n",
    "print(D['marks'][1])"
   ]
  },
  {
   "cell_type": "code",
   "execution_count": 46,
   "id": "6ddec830",
   "metadata": {},
   "outputs": [
    {
     "name": "stdout",
     "output_type": "stream",
     "text": [
      "1847336102272\n",
      "1847336102272\n",
      "1847343771776\n"
     ]
    }
   ],
   "source": [
    "d1=D\n",
    "cw=D.copy()\n",
    "print(id(D))\n",
    "print(id(d1))\n",
    "print(id(cw))"
   ]
  },
  {
   "cell_type": "code",
   "execution_count": 47,
   "id": "5e866070",
   "metadata": {},
   "outputs": [
    {
     "name": "stdout",
     "output_type": "stream",
     "text": [
      "{1: 'a', 2: 'b', 3: 'c', 4: 'd', 5: 'e'}\n"
     ]
    }
   ],
   "source": [
    "list1 = [1, 2, 3, 4, 5] \n",
    "list2 = [\"a\", \"b\", \"c\",\"d\", \"e\"]\n",
    "d={}\n",
    "for x in range(0,5):\n",
    "    d[list1[x]]=list2[x]\n",
    "print(d)"
   ]
  },
  {
   "cell_type": "code",
   "execution_count": 48,
   "id": "4f1c0f86",
   "metadata": {},
   "outputs": [
    {
     "name": "stdout",
     "output_type": "stream",
     "text": [
      "{1: 'a', 2: 'b', 3: 'c', 4: 'd', 5: 'e'}\n"
     ]
    }
   ],
   "source": [
    "list1 = [1, 2, 3, 4, 5] \n",
    "list2 = [\"a\", \"b\", \"c\",\"d\", \"e\"]\n",
    "d={x:y for x,y in zip(list1,list2) }\n",
    "print(d)"
   ]
  },
  {
   "cell_type": "code",
   "execution_count": 50,
   "id": "e8f895f4",
   "metadata": {},
   "outputs": [
    {
     "name": "stdout",
     "output_type": "stream",
     "text": [
      "['A', 'CAT', 'RAN']\n",
      "RAN CAT A\n"
     ]
    }
   ],
   "source": [
    "a=\"A CAT RAN\" \n",
    "word=a.split(' ')\n",
    "print(word)\n",
    "word.reverse()\n",
    "print(' '.join(word))"
   ]
  },
  {
   "cell_type": "code",
   "execution_count": 11,
   "id": "ac26d68b",
   "metadata": {},
   "outputs": [
    {
     "name": "stdout",
     "output_type": "stream",
     "text": [
      "['hello', 'hello', 'all']\n",
      "{'hello': 2, 'all': 1}\n",
      "[('hello', 2), ('all', 1)]\n",
      "['all', 'hello']\n",
      "['hello']\n"
     ]
    }
   ],
   "source": [
    "x='hello hello all'\n",
    "word=x.split(' ')\n",
    "print(word)\n",
    "d={}\n",
    "wm2f=[]\n",
    "for x in word:\n",
    "    d[x]=word.count(x)\n",
    "    if word.count(x)>1:\n",
    "        if x not in wm2f:\n",
    "            wm2f.append(x)\n",
    "        \n",
    "print(d)\n",
    "ld=list(d.items())\n",
    "print(ld)\n",
    "def fun1(x):\n",
    "    return x[1]\n",
    "ld.sort(key= fun1)\n",
    "nd=dict(ld)\n",
    "lw=list(nd.keys())\n",
    "print(lw) \n",
    "print(wm2f)"
   ]
  },
  {
   "cell_type": "code",
   "execution_count": 15,
   "id": "8c8277f4",
   "metadata": {},
   "outputs": [
    {
     "name": "stdout",
     "output_type": "stream",
     "text": [
      "Enter the password\tMI10\n",
      "wlecome Mr John\n"
     ]
    }
   ],
   "source": [
    "password= input(\"Enter the password\\t\") \n",
    "if password==\"MI6\":\n",
    "    print(\"Welcome Mr. Bond.\")\n",
    "elif password==\"MI10\":\n",
    "    print(\"wlecome Mr John\")\n",
    "else:\n",
    "    print(\"Access Denied.\")\n"
   ]
  },
  {
   "cell_type": "code",
   "execution_count": 18,
   "id": "5dca117e",
   "metadata": {},
   "outputs": [
    {
     "name": "stdout",
     "output_type": "stream",
     "text": [
      "enter the marks85\n",
      "Your grade is B\n"
     ]
    }
   ],
   "source": [
    "marks=int(input('enter the marks'))\n",
    "if marks>90:\n",
    "    print('Your grade is A')\n",
    "elif marks>80:\n",
    "    print('Your grade is B')\n",
    "elif marks>50:\n",
    "    print('Your grade is C')\n",
    "else:\n",
    "    print('Your grade is D')"
   ]
  },
  {
   "cell_type": "code",
   "execution_count": 19,
   "id": "40272d7d",
   "metadata": {},
   "outputs": [
    {
     "name": "stdout",
     "output_type": "stream",
     "text": [
      "Enter a number: -90\n",
      "Negative number\n"
     ]
    }
   ],
   "source": [
    "num = float(input(\"Enter a number: \"))\n",
    "if num >= 0:\n",
    " \tif num == 0:\n",
    " \t\tprint(\"Zero\")\n",
    " \telse:\n",
    " \t\tprint(\"Positive number\")\n",
    "else:\n",
    " print(\"Negative number\")\n"
   ]
  },
  {
   "cell_type": "code",
   "execution_count": null,
   "id": "4bf5b87d",
   "metadata": {},
   "outputs": [],
   "source": [
    "for y in range(1,11):\n",
    "    print(y)\n",
    "x=1\n",
    "while x <=10:\n",
    "    print(x)\n",
    "    x=x+1"
   ]
  },
  {
   "cell_type": "code",
   "execution_count": 24,
   "id": "d234608e",
   "metadata": {},
   "outputs": [
    {
     "name": "stdout",
     "output_type": "stream",
     "text": [
      "Enter the data or press 0 to quit :2\n",
      "Sum is  2\n",
      "Enter the data or press 0 to quit :2\n",
      "Sum is  4\n",
      "Enter the data or press 0 to quit :0\n"
     ]
    }
   ],
   "source": [
    "sum = 0\n",
    "while True:\n",
    "    data = int(input(\"Enter the data or press 0 to quit :\"))\n",
    "    if data == 0:\n",
    "        break \n",
    "    sum = sum+data\n",
    "    print(\"Sum is \", sum)\n",
    "\n"
   ]
  },
  {
   "cell_type": "code",
   "execution_count": 25,
   "id": "0cefc1d4",
   "metadata": {},
   "outputs": [
    {
     "name": "stdout",
     "output_type": "stream",
     "text": [
      "s\n",
      "t\n",
      "r\n",
      "The end\n"
     ]
    }
   ],
   "source": [
    "for val in \"string\":\n",
    "      if val == \"i\":\n",
    "             break\n",
    "      print(val)\n",
    "print(\"The end\")\n"
   ]
  },
  {
   "cell_type": "code",
   "execution_count": 26,
   "id": "daa482dc",
   "metadata": {},
   "outputs": [
    {
     "name": "stdout",
     "output_type": "stream",
     "text": [
      "s\n",
      "t\n",
      "r\n",
      "n\n",
      "g\n",
      "The end\n"
     ]
    }
   ],
   "source": [
    "for val in \"string\":\n",
    "      if val == \"i\":\n",
    "             continue\n",
    "      print(val)\n",
    "print(\"The end\")\n"
   ]
  },
  {
   "cell_type": "code",
   "execution_count": 2,
   "id": "69bec2b2",
   "metadata": {},
   "outputs": [],
   "source": [
    "for x in range(5):\n",
    "    pass"
   ]
  },
  {
   "cell_type": "code",
   "execution_count": 4,
   "id": "6c9c303c",
   "metadata": {},
   "outputs": [
    {
     "name": "stdout",
     "output_type": "stream",
     "text": [
      "hello from f1 finction\n"
     ]
    }
   ],
   "source": [
    "def f1():\n",
    "    print(\"hello from f1 finction\")\n",
    "f1()"
   ]
  },
  {
   "cell_type": "code",
   "execution_count": 8,
   "id": "ef44d2fe",
   "metadata": {},
   "outputs": [
    {
     "name": "stdout",
     "output_type": "stream",
     "text": [
      "the sum is  22\n"
     ]
    }
   ],
   "source": [
    "def add(a, b):\n",
    "    c=a+b\n",
    "    print(\"the sum is \",c)\n",
    "add(10, 12)"
   ]
  },
  {
   "cell_type": "code",
   "execution_count": 12,
   "id": "cc52735e",
   "metadata": {},
   "outputs": [
    {
     "name": "stdout",
     "output_type": "stream",
     "text": [
      "the sum is  10\n"
     ]
    }
   ],
   "source": [
    "def add(a=0, b=0):\n",
    "    c=a+b\n",
    "    print(\"the sum is \",c)\n",
    "add(10)"
   ]
  },
  {
   "cell_type": "code",
   "execution_count": 14,
   "id": "beb0b588",
   "metadata": {},
   "outputs": [
    {
     "name": "stdout",
     "output_type": "stream",
     "text": [
      "the sum is  10\n",
      "(10, 10, 0)\n"
     ]
    }
   ],
   "source": [
    "def add(a=0, b=0):\n",
    "    c=a+b\n",
    "    print(\"the sum is \",c)\n",
    "    return c,a,b\n",
    "res=add(10)\n",
    "print(res)"
   ]
  },
  {
   "cell_type": "code",
   "execution_count": 17,
   "id": "3496b782",
   "metadata": {},
   "outputs": [
    {
     "name": "stdout",
     "output_type": "stream",
     "text": [
      "24\n"
     ]
    }
   ],
   "source": [
    "n=4\n",
    "fab=1\n",
    "for x in range(1,n+1):\n",
    "    fab=fab*x\n",
    "print(fab)"
   ]
  },
  {
   "cell_type": "code",
   "execution_count": 24,
   "id": "412ddaf2",
   "metadata": {},
   "outputs": [
    {
     "name": "stdout",
     "output_type": "stream",
     "text": [
      "4 12\n",
      "12\n"
     ]
    }
   ],
   "source": [
    "k=12\n",
    "def fun1():\n",
    "    lv=10\n",
    "    print(x,k)\n",
    "fun1()\n",
    "print(lv)"
   ]
  },
  {
   "cell_type": "code",
   "execution_count": 26,
   "id": "a37b7299",
   "metadata": {},
   "outputs": [
    {
     "name": "stdout",
     "output_type": "stream",
     "text": [
      "10 22\n",
      "22\n"
     ]
    }
   ],
   "source": [
    "k=12\n",
    "def fun1():\n",
    "    global k\n",
    "    lv=10\n",
    "    k=22\n",
    "    print(lv,k)\n",
    "fun1()\n",
    "print(k)"
   ]
  },
  {
   "cell_type": "code",
   "execution_count": 31,
   "id": "b06492c3",
   "metadata": {},
   "outputs": [
    {
     "name": "stdout",
     "output_type": "stream",
     "text": [
      "5.0\n",
      "no error\n",
      "this is finally\n",
      "next statements\n"
     ]
    }
   ],
   "source": [
    "try:\n",
    "    a=10\n",
    "    b=0\n",
    "    print(a/2)\n",
    "except:\n",
    "    print('donot give divide by zero')\n",
    "else:\n",
    "    print('no error')\n",
    "finally:\n",
    "    print('this is finally')\n",
    "print('next statements')"
   ]
  },
  {
   "cell_type": "code",
   "execution_count": 33,
   "id": "ee690fb2",
   "metadata": {},
   "outputs": [
    {
     "ename": "IndexError",
     "evalue": "list index out of range",
     "output_type": "error",
     "traceback": [
      "\u001b[1;31m---------------------------------------------------------------------------\u001b[0m",
      "\u001b[1;31mIndexError\u001b[0m                                Traceback (most recent call last)",
      "Input \u001b[1;32mIn [33]\u001b[0m, in \u001b[0;36m<cell line: 2>\u001b[1;34m()\u001b[0m\n\u001b[0;32m      1\u001b[0m \u001b[38;5;66;03m#print(12/0)\u001b[39;00m\n\u001b[1;32m----> 2\u001b[0m \u001b[38;5;28mprint\u001b[39m(\u001b[43m[\u001b[49m\u001b[38;5;241;43m1\u001b[39;49m\u001b[43m,\u001b[49m\u001b[38;5;241;43m2\u001b[39;49m\u001b[43m,\u001b[49m\u001b[38;5;241;43m3\u001b[39;49m\u001b[43m]\u001b[49m\u001b[43m[\u001b[49m\u001b[38;5;241;43m3\u001b[39;49m\u001b[43m]\u001b[49m)\n",
      "\u001b[1;31mIndexError\u001b[0m: list index out of range"
     ]
    }
   ],
   "source": [
    "#print(12/0)\n",
    "print([1,2,3][3])"
   ]
  },
  {
   "cell_type": "code",
   "execution_count": 5,
   "id": "e432db0a",
   "metadata": {},
   "outputs": [
    {
     "name": "stdout",
     "output_type": "stream",
     "text": [
      "Enter the numberhello\n",
      "invalid literal for int() with base 10: 'hello' <class 'ValueError'>\n"
     ]
    }
   ],
   "source": [
    "try:\n",
    "    num = int(input(\"Enter the number\"))\n",
    "    c = 45/num\n",
    "    print(c)\n",
    "except TypeError :\n",
    "    print(\"Value is not int type\")\n",
    "except ZeroDivisionError : \n",
    "    print(\"Don't use zero\")\n",
    "except Exception as o: \n",
    "    print(o, type(o))\n",
    "else: \n",
    "    print(\"result is \",c)\n"
   ]
  },
  {
   "cell_type": "code",
   "execution_count": 9,
   "id": "febd871f",
   "metadata": {},
   "outputs": [
    {
     "name": "stdout",
     "output_type": "stream",
     "text": [
      "john 1000 production\n",
      "joseph 2000 development\n"
     ]
    }
   ],
   "source": [
    "class emp:\n",
    "    def __init__(self,name,sal,dept ):\n",
    "        self.name=name\n",
    "        self.sal=sal\n",
    "        self.dept=dept\n",
    "        \n",
    "    def disp(self):\n",
    "        print(self.name, self.sal,self.dept)\n",
    "        \n",
    "e1=emp('john',1000,'production')\n",
    "e2=emp('joseph',2000,'development')\n",
    "e1.disp()\n",
    "e2.disp()"
   ]
  },
  {
   "cell_type": "code",
   "execution_count": 12,
   "id": "bb3e5c66",
   "metadata": {},
   "outputs": [
    {
     "name": "stdout",
     "output_type": "stream",
     "text": [
      "This is a class\n"
     ]
    }
   ],
   "source": [
    "class a:\n",
    "    def f1(s):\n",
    "        print('This is a class')\n",
    "class b(a):\n",
    "    def f2(self):\n",
    "        print('This is b class')\n",
    "        \n",
    "o=b()\n",
    "o.f1()"
   ]
  },
  {
   "cell_type": "code",
   "execution_count": 13,
   "id": "c1d4236e",
   "metadata": {},
   "outputs": [
    {
     "name": "stdout",
     "output_type": "stream",
     "text": [
      "In class A\n",
      "9\n"
     ]
    }
   ],
   "source": [
    "class A():\n",
    "  def sum1(self,a,b):\n",
    "    print(\"In class A\")\n",
    "    c = a+b\n",
    "    return c\n",
    "class B(A):\n",
    "  def sub1(self,a,b):\n",
    "    print(\"In class B\")\n",
    "    c= a-b\n",
    "    return c\n",
    "b_obj = B()\n",
    "print(b_obj.sum1(4,5))\n"
   ]
  },
  {
   "cell_type": "code",
   "execution_count": 14,
   "id": "784d9868",
   "metadata": {},
   "outputs": [
    {
     "name": "stdout",
     "output_type": "stream",
     "text": [
      "In class A\n",
      "9\n",
      "In class B\n",
      "-1\n"
     ]
    }
   ],
   "source": [
    "class A():\n",
    "  def sum1(self,a,b):\n",
    "    print(\"In class A\")\n",
    "    c = a+b\n",
    "    return c\n",
    "class B():\n",
    "  def sub1(self,a,b):\n",
    "    print(\"In class B\")\n",
    "    c= a-b\n",
    "    return c\n",
    "class C(A,B):pass\n",
    "b_obj = C()\n",
    "print(b_obj.sum1(4,5))\n",
    "print(b_obj.sub1(4,5))"
   ]
  },
  {
   "cell_type": "code",
   "execution_count": 15,
   "id": "7480e680",
   "metadata": {},
   "outputs": [
    {
     "name": "stdout",
     "output_type": "stream",
     "text": [
      "In class A\n",
      "9\n",
      "In class B\n",
      "-1\n"
     ]
    }
   ],
   "source": [
    "class A():\n",
    "  def sum1(self,a,b):\n",
    "    print(\"In class A\")\n",
    "    c = a+b\n",
    "    return c\n",
    "class B(A):\n",
    "  def sub1(self,a,b):\n",
    "    print(\"In class B\")\n",
    "    c= a-b\n",
    "    return c\n",
    "class C(B):pass\n",
    "b_obj = C()\n",
    "print(b_obj.sum1(4,5))\n",
    "print(b_obj.sub1(4,5))"
   ]
  },
  {
   "cell_type": "code",
   "execution_count": 16,
   "id": "60f735d8",
   "metadata": {},
   "outputs": [
    {
     "name": "stdout",
     "output_type": "stream",
     "text": [
      "{'__module__': '__main__', 'sum1': <function B.sum1 at 0x000002719D520B80>, '__doc__': None}\n",
      "In class B\n",
      "41\n"
     ]
    }
   ],
   "source": [
    "class A():\n",
    "  def sum1(self,a,b):\n",
    "    print(\"In class A\")\n",
    "    c = a+b\n",
    "    return c\n",
    "class B(A):\n",
    "  def sum1(self,a,b):\n",
    "    print(\"In class B\")\n",
    "    c= a*a+b*b\n",
    "    return c\n",
    "b_obj = B()\n",
    "print(B.__dict__)\n",
    "print(b_obj.sum1(4,5))\n"
   ]
  },
  {
   "cell_type": "code",
   "execution_count": 22,
   "id": "277941de",
   "metadata": {},
   "outputs": [
    {
     "name": "stdout",
     "output_type": "stream",
     "text": [
      "3000\n",
      "-1000\n",
      "True\n"
     ]
    }
   ],
   "source": [
    "class emp:\n",
    "    def __init__(self,name,sal,dept ):\n",
    "        self.name=name\n",
    "        self.sal=sal\n",
    "        self.dept=dept\n",
    "        \n",
    "    def disp(self):\n",
    "        print(self.name, self.sal,self.dept)\n",
    "    def __add__(self, temp):\n",
    "        return self.sal+temp.sal\n",
    "    def __sub__(self, temp):\n",
    "        return self.sal-temp.sal\n",
    "    def __lt__(self, temp):\n",
    "        return self.sal<temp.sal\n",
    "      \n",
    "        \n",
    "e1=emp('john',1000,'production')\n",
    "e2=emp('joseph',2000,'development')\n",
    "print(e1+e2)\n",
    "print(e1-e2)\n",
    "print(e1<e2)"
   ]
  },
  {
   "cell_type": "code",
   "execution_count": 23,
   "id": "c3a9c3c5",
   "metadata": {},
   "outputs": [
    {
     "name": "stdout",
     "output_type": "stream",
     "text": [
      "Amount is  45\n",
      "I am in Class A\n",
      "45\n"
     ]
    }
   ],
   "source": [
    "class A:\n",
    "    __amount = 45\n",
    "    def __info(self):\n",
    "       print(\"I am in Class A\")\n",
    "    def hello(self):\n",
    "       print(\"Amount is \",A.__amount)\n",
    "a = A()\n",
    "a.hello()\n",
    "a._A__info()\n",
    "print(a._A__amount)\n"
   ]
  },
  {
   "cell_type": "code",
   "execution_count": 27,
   "id": "e4599ef1",
   "metadata": {},
   "outputs": [
    {
     "name": "stdout",
     "output_type": "stream",
     "text": [
      "This is what this class is about\n"
     ]
    }
   ],
   "source": [
    "class test:\n",
    "    \"This is what this class is about\"\n",
    "    def __init__(self):\n",
    "        # code for the constructor\n",
    "        pass\n",
    "\n",
    "print(test.__doc__)"
   ]
  },
  {
   "cell_type": "code",
   "execution_count": 3,
   "id": "05d17a09",
   "metadata": {},
   "outputs": [
    {
     "name": "stdout",
     "output_type": "stream",
     "text": [
      "Requirement already satisfied: mysql-connector-python in c:\\users\\acer\\anaconda3\\lib\\site-packages (8.0.32)\n",
      "Requirement already satisfied: protobuf<=3.20.3,>=3.11.0 in c:\\users\\acer\\anaconda3\\lib\\site-packages (from mysql-connector-python) (3.19.1)\n",
      "Note: you may need to restart the kernel to use updated packages.\n"
     ]
    }
   ],
   "source": [
    "pip install mysql-connector-python\n"
   ]
  },
  {
   "cell_type": "code",
   "execution_count": 4,
   "id": "fe6bd76f",
   "metadata": {},
   "outputs": [
    {
     "name": "stdout",
     "output_type": "stream",
     "text": [
      "range(0, 10)\n"
     ]
    }
   ],
   "source": [
    "print(range(10))"
   ]
  },
  {
   "cell_type": "code",
   "execution_count": 2,
   "id": "9c770547",
   "metadata": {},
   "outputs": [
    {
     "name": "stdout",
     "output_type": "stream",
     "text": [
      "10\n",
      "0\n",
      "10\n",
      "60\n",
      "80\n",
      "30\n",
      "50\n"
     ]
    }
   ],
   "source": [
    "from array import *\n",
    "array1 = array('i', [10,20,30,40,50])\n",
    "print (array1[0])\n",
    "array1.insert(1,60)\n",
    "array1.remove(40)\n",
    "print (array1.index(10))\n",
    "array1[2] = 80\n",
    "for x in array1:\n",
    "   print(x) \n"
   ]
  },
  {
   "cell_type": "code",
   "execution_count": 5,
   "id": "09677e63",
   "metadata": {},
   "outputs": [
    {
     "name": "stdout",
     "output_type": "stream",
     "text": [
      "[['Mon' '18' '20' '22' '17']\n",
      " ['Tue' '11' '18' '21' '18']\n",
      " ['Wed' '15' '21' '20' '19']\n",
      " ['Thu' '11' '20' '22' '21']\n",
      " ['Fri' '18' '17' '23' '22']\n",
      " ['Sat' '12' '22' '20' '18']\n",
      " ['Sun' '13' '15' '19' '16']]\n",
      "22\n",
      "['Thu' '11' '20' '22' '21']\n"
     ]
    }
   ],
   "source": [
    "from numpy import * \n",
    "a = array([['Mon',18,20,22,17],['Tue',11,18,21,18],\n",
    "   ['Wed',15,21,20,19],['Thu',11,20,22,21],\n",
    "   ['Fri',18,17,23,22],['Sat',12,22,20,18],\n",
    "   ['Sun',13,15,19,16]])\n",
    "m = reshape(a,(7,5))\n",
    "print(m)\n",
    "print(m[3][3])\n",
    "print(m[3])"
   ]
  },
  {
   "cell_type": "code",
   "execution_count": 7,
   "id": "16998fa6",
   "metadata": {},
   "outputs": [
    {
     "name": "stdout",
     "output_type": "stream",
     "text": [
      "Mon\n",
      "Tue\n",
      "Wed\n",
      "sun\n",
      "Mon\n",
      "Tue\n",
      "Wed\n"
     ]
    }
   ],
   "source": [
    "class Node:\n",
    "   def __init__(self, dataval=None):\n",
    "      self.dataval = dataval\n",
    "      self.nextval = None\n",
    "class SLinkedList:\n",
    "   def __init__(self):\n",
    "      self.headval = None\n",
    "   def listprint(self):\n",
    "      printval = self.headval\n",
    "      while printval is not None:\n",
    "         print (printval.dataval)\n",
    "         printval = printval.nextval\n",
    "   def AtBegining(self,newdata):\n",
    "    NewNode=Node(newdata)\n",
    "    NewNode.nextval =self.headval\n",
    "    self.headval = NewNode\n",
    "\n",
    "list = SLinkedList()\n",
    "list.headval = Node(\"Mon\")\n",
    "e2 = Node(\"Tue\")\n",
    "e3 = Node(\"Wed\")\n",
    "# Link first Node to second node\n",
    "list.headval.nextval = e2\n",
    "# Link second Node to third node\n",
    "e2.nextval = e3\n",
    "list.listprint()\n",
    "list.AtBegining('sun')\n",
    "list.listprint()"
   ]
  },
  {
   "cell_type": "code",
   "execution_count": 1,
   "id": "8f1b5a61",
   "metadata": {},
   "outputs": [
    {
     "name": "stdout",
     "output_type": "stream",
     "text": [
      "Thu\n",
      "Thu\n",
      "Wed\n"
     ]
    }
   ],
   "source": [
    "class Stack:\n",
    "    def __init__(self):\n",
    "        self.stack = []\n",
    "    def add(self, dataval):\n",
    "        # Use list append method to add element\n",
    "        if dataval not in self.stack:\n",
    "            self.stack.append(dataval)\n",
    "            return True\n",
    "        else:\n",
    "            return False\n",
    "    # Use peek to look or retrieve at the top of the stack\n",
    "    def peek(self):\n",
    "        return self.stack[-1]\n",
    "    # Use list pop method to remove element\n",
    "    def remove(self):\n",
    "        if len(self.stack) <= 0:\n",
    "            return (\"No element in the Stack\")\n",
    "        else:\n",
    "            return self.stack.pop()\n",
    "AStack = Stack()\n",
    "AStack.add(\"Mon\")\n",
    "AStack.add(\"Tue\")\n",
    "AStack.add(\"Wed\")\n",
    "AStack.add(\"Thu\")\n",
    "print(AStack.peek())\n",
    "print(AStack.remove())\n",
    "print(AStack.remove())"
   ]
  },
  {
   "cell_type": "code",
   "execution_count": 2,
   "id": "c1085f69",
   "metadata": {},
   "outputs": [
    {
     "name": "stdout",
     "output_type": "stream",
     "text": [
      "Mon\n",
      "Tue\n"
     ]
    }
   ],
   "source": [
    "class Queue:\n",
    "   def __init__(self):\n",
    "      self.queue = list()\n",
    "   def addtoq(self,dataval):\n",
    "       if dataval not in self.queue:\n",
    "           self.queue.insert(0,dataval)\n",
    "           return True\n",
    "       return False\n",
    "   def removefromq(self):\n",
    "      if len(self.queue)>0:\n",
    "         return self.queue.pop()\n",
    "      return (\"No elements in Queue!\")\n",
    "\n",
    "TheQueue = Queue()\n",
    "TheQueue.addtoq(\"Mon\")\n",
    "TheQueue.addtoq(\"Tue\")\n",
    "TheQueue.addtoq(\"Wed\")\n",
    "print(TheQueue.removefromq())\n",
    "print(TheQueue.removefromq())"
   ]
  },
  {
   "cell_type": "code",
   "execution_count": 3,
   "id": "4e3fd0c6",
   "metadata": {},
   "outputs": [
    {
     "name": "stdout",
     "output_type": "stream",
     "text": [
      "['a', 'b', 'c', 'd', 'e']\n",
      "[{'b', 'a'}, {'a', 'c'}, {'b', 'd'}, {'d', 'c'}, {'e', 'd'}]\n"
     ]
    }
   ],
   "source": [
    "class graph:\n",
    "   def __init__(self,gdict=None):\n",
    "      if gdict is None:\n",
    "         gdict = []\n",
    "      self.gdict = gdict\n",
    "   def getVertices(self):\n",
    "      return list(self.gdict.keys())\n",
    "   def getedges(self):\n",
    "      edgename = []\n",
    "      for vrtx in self.gdict:\n",
    "         for nxtvrtx in self.gdict[vrtx]:\n",
    "            if {nxtvrtx, vrtx} not in edgename:\n",
    "               edgename.append({vrtx, nxtvrtx})\n",
    "      return edgename\n",
    "\n",
    "graph_elements = {\n",
    "   \"a\" : [\"b\",\"c\"],\n",
    "   \"b\" : [\"a\", \"d\"],\n",
    "   \"c\" : [\"a\", \"d\"],\n",
    "   \"d\" : [\"e\"],\n",
    "   \"e\" : [\"d\"]}\n",
    "g = graph(graph_elements)\n",
    "print(g.getVertices())\n",
    "print(g.getedges())\n"
   ]
  },
  {
   "cell_type": "code",
   "execution_count": 2,
   "id": "e50beead",
   "metadata": {},
   "outputs": [
    {
     "name": "stdout",
     "output_type": "stream",
     "text": [
      "22\n"
     ]
    }
   ],
   "source": [
    "print((lambda a,b: a+b)(12,10))"
   ]
  },
  {
   "cell_type": "code",
   "execution_count": 3,
   "id": "346415db",
   "metadata": {},
   "outputs": [
    {
     "name": "stdout",
     "output_type": "stream",
     "text": [
      "[0, 4, 2, 2, 1, 0, 4, 3, 0, 1, 3, 0, 3]\n"
     ]
    }
   ],
   "source": [
    "nums = [0, 4, 7, 2, 1, 0 , 9 , 3, 5, 6, 8, 0, 3]\n",
    "\n",
    "nums = list(map(lambda x : x % 5, nums))\n",
    "\n",
    "print(nums)      \n"
   ]
  },
  {
   "cell_type": "code",
   "execution_count": 4,
   "id": "c2da3497",
   "metadata": {},
   "outputs": [
    {
     "name": "stdout",
     "output_type": "stream",
     "text": [
      "[None, 2, None, 4, None, 6, None, 8, None, 10]\n"
     ]
    }
   ],
   "source": [
    "def even(x):\n",
    "    if x%2==0:\n",
    "        return x\n",
    "l=[1,2,3,4,5,6,7,8,9,10]\n",
    "print(list(map(even, l)))"
   ]
  },
  {
   "cell_type": "code",
   "execution_count": 5,
   "id": "4d9420c1",
   "metadata": {},
   "outputs": [
    {
     "name": "stdout",
     "output_type": "stream",
     "text": [
      "[2, 4, 6, 8, 10]\n"
     ]
    }
   ],
   "source": [
    "def even(x):\n",
    "    return x%2==0\n",
    "\n",
    "l=[1,2,3,4,5,6,7,8,9,10]\n",
    "print(list(filter(even, l)))"
   ]
  },
  {
   "cell_type": "code",
   "execution_count": 11,
   "id": "169c825c",
   "metadata": {},
   "outputs": [
    {
     "name": "stdout",
     "output_type": "stream",
     "text": [
      "36\n"
     ]
    }
   ],
   "source": [
    "from functools import reduce\n",
    "nums = [1, 2, 3, 4, 5, 6, 7, 8]\n",
    "\n",
    "nums = reduce(lambda x, y : x+y, nums)\n",
    "\n",
    "print(nums)      "
   ]
  },
  {
   "cell_type": "code",
   "execution_count": 12,
   "id": "cc50ef3c",
   "metadata": {},
   "outputs": [
    {
     "data": {
      "text/plain": [
       "3"
      ]
     },
     "execution_count": 12,
     "metadata": {},
     "output_type": "execute_result"
    }
   ],
   "source": [
    "email = ['the', 'this', 'annoy', 'the', 'the', 'annoy']\n",
    "\n",
    "def inEmail (x):\n",
    "    if (x == \"the\"):\n",
    "        return 1;\n",
    "    else:\n",
    "        return 0\n",
    "\n",
    "reduce((lambda x, xs: x + xs), map(inEmail, email)) "
   ]
  },
  {
   "cell_type": "code",
   "execution_count": 19,
   "id": "186d3618",
   "metadata": {},
   "outputs": [
    {
     "name": "stdout",
     "output_type": "stream",
     "text": [
      "AGGT\n",
      "AAcT\n"
     ]
    }
   ],
   "source": [
    "import re\n",
    "pattern= re.compile( \"A..T\" )     # . matches any one character\n",
    "matchObject=pattern.findall( \"GAGGTAAcT\")\n",
    "for x in matchObject:\n",
    "     print(x )  # displays ‘ACGT’"
   ]
  },
  {
   "cell_type": "code",
   "execution_count": 22,
   "id": "d280708e",
   "metadata": {},
   "outputs": [],
   "source": [
    "import re\n",
    "pattern= re.compile( \"u1011\\d\\dF(cs|ec|bt)\\d\\d\\d\" )     # . matches any one character\n",
    "matchObject=pattern.search( \"u101120cs123\")\n",
    "if(matchObject):\n",
    "    print(matchObject.group())"
   ]
  },
  {
   "cell_type": "code",
   "execution_count": 26,
   "id": "ef8bb9fb",
   "metadata": {},
   "outputs": [
    {
     "name": "stdout",
     "output_type": "stream",
     "text": [
      "Day:  2016\n"
     ]
    }
   ],
   "source": [
    "regex=re.compile( \"(\\d\\d)-(\\d\\d)-(\\d\\d\\d\\d)\" )\n",
    "match=regex.match('12-03-2016')\n",
    "if match:\n",
    "\tprint('Day: ',match.group(3) )\n"
   ]
  },
  {
   "cell_type": "code",
   "execution_count": 29,
   "id": "ddcdf099",
   "metadata": {},
   "outputs": [
    {
     "name": "stdout",
     "output_type": "stream",
     "text": [
      "Learn to program because singing is fun.\n"
     ]
    }
   ],
   "source": [
    "text = 'Learn to sing because singing is fun.'\n",
    "print(re.sub('sing', 'program', text, count=1))\n",
    "#'Learn to program because programing is fun.'\n"
   ]
  },
  {
   "cell_type": "code",
   "execution_count": 32,
   "id": "c513f1b6",
   "metadata": {},
   "outputs": [
    {
     "name": "stdout",
     "output_type": "stream",
     "text": [
      "[1 2 3 4 5]\n"
     ]
    }
   ],
   "source": [
    "import numpy as np\n",
    "arr = np.array([1, 2, 3, 4, 5])\n",
    "print(arr)\n"
   ]
  },
  {
   "cell_type": "code",
   "execution_count": 33,
   "id": "3d554130",
   "metadata": {},
   "outputs": [
    {
     "name": "stdout",
     "output_type": "stream",
     "text": [
      "0\n",
      "1\n",
      "2\n",
      "3\n",
      "[ 0  1  2  3  4  5  6  7  8  9 10 11 12 13 14]\n",
      "[[ 0  1  2  3  4]\n",
      " [ 5  6  7  8  9]\n",
      " [10 11 12 13 14]]\n",
      "<class 'numpy.ndarray'>\n"
     ]
    }
   ],
   "source": [
    "import numpy as np\n",
    "a=np.array(42)\n",
    "b=np.array([1,2,3,4,5])\n",
    "c=np.array([[1,2,3],[4,5,6]])\n",
    "d=np.array([[[1,2,3],[4,5,6]],[[7,8,9],[1,2,3]]])\n",
    "print(a.ndim)                #ndim attribute returns dimensions an array have\n",
    "print(b.ndim)\n",
    "print(c.ndim)\n",
    "print(d.ndim)\n",
    "print(np.arange(15))               # generate an 1-d array from 0 to 14\n",
    "print(np.arange(15).reshape(3, 5)) # generate array and change dimensions\n",
    "print(type(b))                     "
   ]
  },
  {
   "cell_type": "code",
   "execution_count": 21,
   "id": "503b2fa5",
   "metadata": {},
   "outputs": [
    {
     "name": "stdout",
     "output_type": "stream",
     "text": [
      "    name  age  marks\n",
      "0    Joe   20  85.10\n",
      "1    Nat   21  77.80\n",
      "2  Harry   19  91.54\n",
      "3    abc   34  90.00\n",
      "4    xyz   56  78.00\n",
      "5    pqr   23  56.00\n",
      "  name  age  marks\n",
      "0  Joe   20   85.1\n",
      "1  Nat   21   77.8\n",
      "    name  age  marks\n",
      "1    Nat   21  77.80\n",
      "2  Harry   19  91.54\n",
      "3    abc   34  90.00\n",
      "4    xyz   56  78.00\n",
      "5    pqr   23  56.00\n"
     ]
    }
   ],
   "source": [
    "import pandas as pd\n",
    "dict = {\"name\": [\"Joe\", \"Nat\", \"Harry\",'abc','xyz','pqr' ], \"age\": [20, 21, 19,34,56,23], \"marks\": [85.10, 77.80, 91.54,90,78,56]}\n",
    "s4 = pd.DataFrame(dict)\n",
    "print(s4)\n",
    "print(s4.head(2))\n",
    "print(s4.tail())"
   ]
  },
  {
   "cell_type": "code",
   "execution_count": 7,
   "id": "b8ecea8b",
   "metadata": {},
   "outputs": [
    {
     "name": "stdout",
     "output_type": "stream",
     "text": [
      "             age      marks\n",
      "count   6.000000   6.000000\n",
      "mean   28.833333  79.740000\n",
      "std    14.386336  12.989349\n",
      "min    19.000000  56.000000\n",
      "25%    20.250000  77.850000\n",
      "50%    22.000000  81.550000\n",
      "75%    31.250000  88.775000\n",
      "max    56.000000  91.540000\n"
     ]
    }
   ],
   "source": [
    "print(s4.describe())             "
   ]
  },
  {
   "cell_type": "code",
   "execution_count": 8,
   "id": "1ea22452",
   "metadata": {},
   "outputs": [
    {
     "name": "stdout",
     "output_type": "stream",
     "text": [
      "   age  marks\n",
      "0   20  85.10\n",
      "1   21  77.80\n",
      "2   19  91.54\n",
      "3   34  90.00\n",
      "4   56  78.00\n",
      "5   23  56.00\n"
     ]
    }
   ],
   "source": [
    "print(s4[['age',      'marks']])             "
   ]
  },
  {
   "cell_type": "code",
   "execution_count": 11,
   "id": "30d48e5f",
   "metadata": {},
   "outputs": [
    {
     "name": "stdout",
     "output_type": "stream",
     "text": [
      "    name  age  marks\n",
      "0    Joe   20  85.10\n",
      "1    Nat   21  77.80\n",
      "2  Harry   19  91.54\n"
     ]
    }
   ],
   "source": [
    "print(s4.iloc[0:3])             "
   ]
  },
  {
   "cell_type": "code",
   "execution_count": 12,
   "id": "55993ff6",
   "metadata": {},
   "outputs": [
    {
     "name": "stdout",
     "output_type": "stream",
     "text": [
      "age      28.833333\n",
      "marks    79.740000\n",
      "dtype: float64\n"
     ]
    },
    {
     "name": "stderr",
     "output_type": "stream",
     "text": [
      "C:\\Users\\Acer\\AppData\\Local\\Temp\\ipykernel_8608\\3397315784.py:1: FutureWarning: Dropping of nuisance columns in DataFrame reductions (with 'numeric_only=None') is deprecated; in a future version this will raise TypeError.  Select only valid columns before calling the reduction.\n",
      "  print(s4.mean())\n"
     ]
    }
   ],
   "source": [
    "print(s4.mean())                 "
   ]
  },
  {
   "cell_type": "code",
   "execution_count": 19,
   "id": "133fdd8c",
   "metadata": {},
   "outputs": [
    {
     "name": "stdout",
     "output_type": "stream",
     "text": [
      "None\n"
     ]
    }
   ],
   "source": [
    "print(s4.drop('age',axis=1, inplace=True))              "
   ]
  },
  {
   "cell_type": "code",
   "execution_count": 27,
   "id": "b1a05ffd",
   "metadata": {},
   "outputs": [
    {
     "name": "stdout",
     "output_type": "stream",
     "text": [
      "    name  age  marks\n",
      "0    Joe   20  85.10\n",
      "1    Nat   21  77.80\n",
      "2  Harry   19  91.54\n",
      "3    abc   34  90.00\n",
      "4    xyz   56  78.00\n",
      "5    pqr   23  56.00\n"
     ]
    }
   ],
   "source": [
    "print(s4)"
   ]
  },
  {
   "cell_type": "code",
   "execution_count": 22,
   "id": "6400a213",
   "metadata": {},
   "outputs": [
    {
     "name": "stdout",
     "output_type": "stream",
     "text": [
      "    OrderID  ProductID  OrderedQuantity\n",
      "0      1001          1                2\n",
      "1      1001          2                2\n",
      "2      1001          4                1\n",
      "3      1002          3                5\n",
      "4      1003          3                3\n",
      "5      1004          6                2\n",
      "6      1004          8                2\n",
      "7      1005          4                3\n",
      "8      1006          4                1\n",
      "9      1006          5                2\n",
      "10     1006          7                2\n",
      "11     1007          1                3\n",
      "12     1007          2                2\n",
      "13     1008          3                3\n",
      "14     1008          8                3\n",
      "15     1009          4                2\n",
      "16     1009          7                3\n",
      "17     1010          8               10\n"
     ]
    }
   ],
   "source": [
    "data=pd.read_excel('D:\\Afshan\\Desktop Backup Data\\Desktop Bkp 202202\\Different sample files\\product.xlsx', sheet_name='practice orderline_t')\n",
    "print(data)"
   ]
  },
  {
   "cell_type": "code",
   "execution_count": 23,
   "id": "11956cf6",
   "metadata": {},
   "outputs": [
    {
     "name": "stdout",
     "output_type": "stream",
     "text": [
      "    Serial Number                   Company Name  Employee Markme  \\\n",
      "0   9788189999599                 TALES OF SHIVA             Mark   \n",
      "1   9780099578079      1Q84 THE COMPLETE TRILOGY  HARUKI MURAKAMI   \n",
      "2   9780198082897                       MY KUMAN             Mark   \n",
      "3   9780007880331        THE GOD OF SMAAL THINGS    ARUNDHATI ROY   \n",
      "4   9780545060455               THE BLACK CIRCLE             Mark   \n",
      "..            ...                            ...              ...   \n",
      "94  9788184821536  MORE STORIES FROM THE JATAKAS             Mark   \n",
      "95  9788184821543           MORE TALES OF BIRBAL                -   \n",
      "96  9788184821550         TALES FROM THE JATAKAS                -   \n",
      "97  9788184821567               RAMarkS OF MEWAR                -   \n",
      "98  9788184821574       THE SONS OF THE PANDAVAS                -   \n",
      "\n",
      "           Description  Leave  \n",
      "0                 mark      0  \n",
      "1                 Mark      0  \n",
      "2                 Mark      0  \n",
      "3   4TH HARPER COLLINS      2  \n",
      "4   4TH HARPER COLLINS      0  \n",
      "..                 ...    ...  \n",
      "94                 ACK      0  \n",
      "95                 ACK      0  \n",
      "96                 ACK      0  \n",
      "97                 ACK      0  \n",
      "98                 ACK      0  \n",
      "\n",
      "[99 rows x 5 columns]\n"
     ]
    }
   ],
   "source": [
    "data=pd.read_csv('D:\\Afshan\\Desktop Backup Data\\Desktop Bkp 202202\\Different sample files\\Sample100.csv')\n",
    "print(data)"
   ]
  },
  {
   "cell_type": "code",
   "execution_count": 25,
   "id": "5aebb153",
   "metadata": {},
   "outputs": [
    {
     "name": "stdout",
     "output_type": "stream",
     "text": [
      "  Name  Score\n",
      "0    a     90\n",
      "1    b     80\n",
      "2    c     95\n",
      "3    d     20\n"
     ]
    }
   ],
   "source": [
    "name_dict = {\n",
    "            'Name': ['a','b','c','d'],\n",
    "            'Score': [90,80,95,20]\n",
    "          }\n",
    "df = pd.DataFrame(name_dict)\n",
    "print (df)\n",
    "df.to_csv('file_name.csv’')\n",
    "df.to_"
   ]
  },
  {
   "cell_type": "code",
   "execution_count": 26,
   "id": "c54b91ee",
   "metadata": {},
   "outputs": [
    {
     "name": "stdout",
     "output_type": "stream",
     "text": [
      "            age     marks\n",
      "age    1.000000 -0.004238\n",
      "marks -0.004238  1.000000\n"
     ]
    }
   ],
   "source": [
    "print(s4.corr() )"
   ]
  },
  {
   "cell_type": "code",
   "execution_count": 28,
   "id": "aa00242d",
   "metadata": {},
   "outputs": [
    {
     "name": "stdout",
     "output_type": "stream",
     "text": [
      "name     6\n",
      "age      6\n",
      "marks    6\n",
      "dtype: int64\n"
     ]
    }
   ],
   "source": [
    "print(s4.count() )"
   ]
  },
  {
   "cell_type": "code",
   "execution_count": 29,
   "id": "933b8bb4",
   "metadata": {},
   "outputs": [
    {
     "name": "stdout",
     "output_type": "stream",
     "text": [
      "    name  age  marks\n",
      "0    Joe   20  85.10\n",
      "1    Nat   21  77.80\n",
      "2  Harry   19  91.54\n",
      "3    abc   34  90.00\n",
      "4    xyz   56  78.00\n",
      "5    pqr   23  56.00\n"
     ]
    }
   ],
   "source": [
    "print(s4)"
   ]
  },
  {
   "cell_type": "code",
   "execution_count": 30,
   "id": "7b945295",
   "metadata": {},
   "outputs": [
    {
     "data": {
      "text/plain": [
       "array(['Joe', 'Nat', 'Harry', 'abc', 'xyz', 'pqr'], dtype=object)"
      ]
     },
     "execution_count": 30,
     "metadata": {},
     "output_type": "execute_result"
    }
   ],
   "source": [
    "s4['name'].unique() "
   ]
  },
  {
   "cell_type": "code",
   "execution_count": 31,
   "id": "dea16b18",
   "metadata": {},
   "outputs": [
    {
     "data": {
      "text/plain": [
       "6"
      ]
     },
     "execution_count": 31,
     "metadata": {},
     "output_type": "execute_result"
    }
   ],
   "source": [
    "s4['name'].nunique() "
   ]
  },
  {
   "cell_type": "code",
   "execution_count": 32,
   "id": "202b1793",
   "metadata": {},
   "outputs": [
    {
     "data": {
      "text/html": [
       "<div>\n",
       "<style scoped>\n",
       "    .dataframe tbody tr th:only-of-type {\n",
       "        vertical-align: middle;\n",
       "    }\n",
       "\n",
       "    .dataframe tbody tr th {\n",
       "        vertical-align: top;\n",
       "    }\n",
       "\n",
       "    .dataframe thead th {\n",
       "        text-align: right;\n",
       "    }\n",
       "</style>\n",
       "<table border=\"1\" class=\"dataframe\">\n",
       "  <thead>\n",
       "    <tr style=\"text-align: right;\">\n",
       "      <th></th>\n",
       "      <th>name</th>\n",
       "      <th>age</th>\n",
       "      <th>marks</th>\n",
       "    </tr>\n",
       "  </thead>\n",
       "  <tbody>\n",
       "    <tr>\n",
       "      <th>5</th>\n",
       "      <td>pqr</td>\n",
       "      <td>23</td>\n",
       "      <td>56.00</td>\n",
       "    </tr>\n",
       "    <tr>\n",
       "      <th>2</th>\n",
       "      <td>Harry</td>\n",
       "      <td>19</td>\n",
       "      <td>91.54</td>\n",
       "    </tr>\n",
       "    <tr>\n",
       "      <th>0</th>\n",
       "      <td>Joe</td>\n",
       "      <td>20</td>\n",
       "      <td>85.10</td>\n",
       "    </tr>\n",
       "  </tbody>\n",
       "</table>\n",
       "</div>"
      ],
      "text/plain": [
       "    name  age  marks\n",
       "5    pqr   23  56.00\n",
       "2  Harry   19  91.54\n",
       "0    Joe   20  85.10"
      ]
     },
     "execution_count": 32,
     "metadata": {},
     "output_type": "execute_result"
    }
   ],
   "source": [
    "s4.sample(n=3) "
   ]
  },
  {
   "cell_type": "code",
   "execution_count": 33,
   "id": "5aa6e4e6",
   "metadata": {},
   "outputs": [
    {
     "data": {
      "text/html": [
       "<div>\n",
       "<style scoped>\n",
       "    .dataframe tbody tr th:only-of-type {\n",
       "        vertical-align: middle;\n",
       "    }\n",
       "\n",
       "    .dataframe tbody tr th {\n",
       "        vertical-align: top;\n",
       "    }\n",
       "\n",
       "    .dataframe thead th {\n",
       "        text-align: right;\n",
       "    }\n",
       "</style>\n",
       "<table border=\"1\" class=\"dataframe\">\n",
       "  <thead>\n",
       "    <tr style=\"text-align: right;\">\n",
       "      <th></th>\n",
       "      <th>name</th>\n",
       "      <th>age</th>\n",
       "      <th>marks</th>\n",
       "    </tr>\n",
       "  </thead>\n",
       "  <tbody>\n",
       "    <tr>\n",
       "      <th>2</th>\n",
       "      <td>Harry</td>\n",
       "      <td>19</td>\n",
       "      <td>91.54</td>\n",
       "    </tr>\n",
       "  </tbody>\n",
       "</table>\n",
       "</div>"
      ],
      "text/plain": [
       "    name  age  marks\n",
       "2  Harry   19  91.54"
      ]
     },
     "execution_count": 33,
     "metadata": {},
     "output_type": "execute_result"
    }
   ],
   "source": [
    "s4.nlargest(1,'marks') "
   ]
  },
  {
   "cell_type": "code",
   "execution_count": 2,
   "id": "c1dfd878",
   "metadata": {},
   "outputs": [
    {
     "name": "stdout",
     "output_type": "stream",
     "text": [
      "      RowNumber  CustomerId    Surname  CreditScore Geography  Gender  Age  \\\n",
      "0           NaN    15634602   Hargrave          619    France  Female   42   \n",
      "1           NaN    15647311       Hill          608     Spain  Female   41   \n",
      "2           NaN    15619304       Onio          502    France  Female   42   \n",
      "3           4.0    15701354       Boni          699    France  Female   39   \n",
      "4           5.0    15737888   Mitchell          850     Spain  Female   43   \n",
      "...         ...         ...        ...          ...       ...     ...  ...   \n",
      "9995     9996.0    15606229   Obijiaku          771    France    Male   39   \n",
      "9996     9997.0    15569892  Johnstone          516    France    Male   35   \n",
      "9997     9998.0    15584532        Liu          709    France  Female   36   \n",
      "9998     9999.0    15682355  Sabbatini          772   Germany    Male   42   \n",
      "9999    10000.0    15628319     Walker          792    France  Female   28   \n",
      "\n",
      "      Tenure    Balance  NumOfProducts  HasCrCard  IsActiveMember  \\\n",
      "0          2       0.00              1          1               1   \n",
      "1          1   83807.86              1          0               1   \n",
      "2          8  159660.80              3          1               0   \n",
      "3          1       0.00              2          0               0   \n",
      "4          2  125510.82              1          1               1   \n",
      "...      ...        ...            ...        ...             ...   \n",
      "9995       5       0.00              2          1               0   \n",
      "9996      10   57369.61              1          1               1   \n",
      "9997       7       0.00              1          0               1   \n",
      "9998       3   75075.31              2          1               0   \n",
      "9999       4  130142.79              1          1               0   \n",
      "\n",
      "      EstimatedSalary  Exited  \n",
      "0           101348.88       1  \n",
      "1           112542.58       0  \n",
      "2           113931.57       1  \n",
      "3            93826.63       0  \n",
      "4            79084.10       0  \n",
      "...               ...     ...  \n",
      "9995         96270.64       0  \n",
      "9996        101699.77       0  \n",
      "9997         42085.58       1  \n",
      "9998         92888.52       1  \n",
      "9999         38190.78       0  \n",
      "\n",
      "[10000 rows x 14 columns]\n",
      "      RowNumber  CustomerId          Surname  CreditScore Geography Gender  \\\n",
      "57         58.0    15647091         Endrizzi          725   Germany   Male   \n",
      "86         87.0    15762418             Gant          750     Spain   Male   \n",
      "98         99.0    15604348           Allard          710     Spain   Male   \n",
      "233       234.0    15723886            Fiore          767   Germany   Male   \n",
      "343       344.0    15684484            White          543    France   Male   \n",
      "...         ...         ...              ...          ...       ...    ...   \n",
      "9752     9753.0    15781530            Hsieh          690    France   Male   \n",
      "9762     9763.0    15734917      Castiglione          708   Germany   Male   \n",
      "9782     9783.0    15728829           Weigel          509    France   Male   \n",
      "9796     9797.0    15794236           Thorpe          642   Germany   Male   \n",
      "9932     9933.0    15813451  Fleetwood-Smith          677     Spain   Male   \n",
      "\n",
      "      Age  Tenure    Balance  NumOfProducts  HasCrCard  IsActiveMember  \\\n",
      "57     19       0   75888.20              1          0               0   \n",
      "86     22       3  121681.82              1          1               0   \n",
      "98     22       8       0.00              2          0               0   \n",
      "233    20       3  119714.25              2          0               1   \n",
      "343    22       8       0.00              2          0               0   \n",
      "...   ...     ...        ...            ...        ...             ...   \n",
      "9752   21       8       0.00              2          1               1   \n",
      "9762   21       8  133974.36              2          1               0   \n",
      "9782   18       7  102983.91              1          1               0   \n",
      "9796   22      10  111812.52              2          1               1   \n",
      "9932   18       8  134796.87              2          1               1   \n",
      "\n",
      "      EstimatedSalary  Exited  \n",
      "57           45613.75       0  \n",
      "86          128643.35       1  \n",
      "98           99645.04       0  \n",
      "233         150135.38       0  \n",
      "343         127587.22       0  \n",
      "...               ...     ...  \n",
      "9752        155782.89       0  \n",
      "9762         50294.09       0  \n",
      "9782        171770.58       0  \n",
      "9796        183045.46       0  \n",
      "9932        114858.90       0  \n",
      "\n",
      "[125 rows x 14 columns]\n"
     ]
    }
   ],
   "source": [
    "import pandas as pd\n",
    "df=pd.read_csv('Churn_Modelling.csv')\n",
    "print(df)\n",
    "print(df.query(\"(Gender=='Male') and (Age<23)\") )"
   ]
  },
  {
   "cell_type": "code",
   "execution_count": 3,
   "id": "a79fc608",
   "metadata": {},
   "outputs": [
    {
     "name": "stdout",
     "output_type": "stream",
     "text": [
      "0                       42\n",
      "1                       41\n",
      "2                       42\n",
      "3        Less than fourty \n",
      "4                       43\n",
      "               ...        \n",
      "9995     Less than fourty \n",
      "9996     Less than fourty \n",
      "9997     Less than fourty \n",
      "9998                    42\n",
      "9999     Less than fourty \n",
      "Name: Age, Length: 10000, dtype: object\n"
     ]
    }
   ],
   "source": [
    "print(df['Age'].where(df['Age']>40,\" Less than fourty \") )"
   ]
  },
  {
   "cell_type": "code",
   "execution_count": 5,
   "id": "3d828f47",
   "metadata": {},
   "outputs": [
    {
     "name": "stdout",
     "output_type": "stream",
     "text": [
      "      RowNumber  CustomerId    Surname  CreditScore Geography  Gender   Age  \\\n",
      "0           NaN    15634602   Hargrave          619    France  Female  42.0   \n",
      "1           NaN    15647311       Hill          608     Spain  Female  41.0   \n",
      "2           NaN    15619304       Onio          502    France  Female  42.0   \n",
      "3           4.0    15701354       Boni          699    France  Female  39.0   \n",
      "4           5.0    15737888   Mitchell          850     Spain  Female  43.0   \n",
      "...         ...         ...        ...          ...       ...     ...   ...   \n",
      "9995     9996.0    15606229   Obijiaku          771    France    Male  39.0   \n",
      "9996     9997.0    15569892  Johnstone          516    France    Male  35.0   \n",
      "9997     9998.0    15584532        Liu          709    France  Female  36.0   \n",
      "9998     9999.0    15682355  Sabbatini          772   Germany    Male  42.0   \n",
      "9999    10000.0    15628319     Walker          792    France  Female  28.0   \n",
      "\n",
      "      Tenure    Balance  NumOfProducts  HasCrCard  IsActiveMember  \\\n",
      "0          2       0.00              1          1               1   \n",
      "1          1   83807.86              1          0               1   \n",
      "2          8  159660.80              3          1               0   \n",
      "3          1       0.00              2          0               0   \n",
      "4          2  125510.82              1          1               1   \n",
      "...      ...        ...            ...        ...             ...   \n",
      "9995       5       0.00              2          1               0   \n",
      "9996      10   57369.61              1          1               1   \n",
      "9997       7       0.00              1          0               1   \n",
      "9998       3   75075.31              2          1               0   \n",
      "9999       4  130142.79              1          1               0   \n",
      "\n",
      "      EstimatedSalary  Exited  \n",
      "0           101348.88       1  \n",
      "1           112542.58       0  \n",
      "2           113931.57       1  \n",
      "3            93826.63       0  \n",
      "4            79084.10       0  \n",
      "...               ...     ...  \n",
      "9995         96270.64       0  \n",
      "9996        101699.77       0  \n",
      "9997         42085.58       1  \n",
      "9998         92888.52       1  \n",
      "9999         38190.78       0  \n",
      "\n",
      "[10000 rows x 14 columns]\n"
     ]
    }
   ],
   "source": [
    "df['Age']=df['Age'].astype(float)\n",
    "print(df)"
   ]
  },
  {
   "cell_type": "code",
   "execution_count": 6,
   "id": "e10b0b5c",
   "metadata": {},
   "outputs": [
    {
     "name": "stdout",
     "output_type": "stream",
     "text": [
      "      RowNumber  CustomerId    Surname  CreditScore Geography  Gender   Age  \\\n",
      "3           4.0    15701354       Boni          699    France  Female  39.0   \n",
      "4           5.0    15737888   Mitchell          850     Spain  Female  43.0   \n",
      "5           6.0    15574012        Chu          645     Spain    Male  44.0   \n",
      "6           7.0    15592531   Bartlett          822    France    Male  50.0   \n",
      "7           8.0    15656148     Obinna          376   Germany  Female  29.0   \n",
      "...         ...         ...        ...          ...       ...     ...   ...   \n",
      "9995     9996.0    15606229   Obijiaku          771    France    Male  39.0   \n",
      "9996     9997.0    15569892  Johnstone          516    France    Male  35.0   \n",
      "9997     9998.0    15584532        Liu          709    France  Female  36.0   \n",
      "9998     9999.0    15682355  Sabbatini          772   Germany    Male  42.0   \n",
      "9999    10000.0    15628319     Walker          792    France  Female  28.0   \n",
      "\n",
      "      Tenure    Balance  NumOfProducts  HasCrCard  IsActiveMember  \\\n",
      "3          1       0.00              2          0               0   \n",
      "4          2  125510.82              1          1               1   \n",
      "5          8  113755.78              2          1               0   \n",
      "6          7       0.00              2          1               1   \n",
      "7          4  115046.74              4          1               0   \n",
      "...      ...        ...            ...        ...             ...   \n",
      "9995       5       0.00              2          1               0   \n",
      "9996      10   57369.61              1          1               1   \n",
      "9997       7       0.00              1          0               1   \n",
      "9998       3   75075.31              2          1               0   \n",
      "9999       4  130142.79              1          1               0   \n",
      "\n",
      "      EstimatedSalary  Exited  \n",
      "3            93826.63       0  \n",
      "4            79084.10       0  \n",
      "5           149756.71       1  \n",
      "6            10062.80       0  \n",
      "7           119346.88       1  \n",
      "...               ...     ...  \n",
      "9995         96270.64       0  \n",
      "9996        101699.77       0  \n",
      "9997         42085.58       1  \n",
      "9998         92888.52       1  \n",
      "9999         38190.78       0  \n",
      "\n",
      "[9997 rows x 14 columns]\n"
     ]
    }
   ],
   "source": [
    "print(df.dropna())"
   ]
  },
  {
   "cell_type": "code",
   "execution_count": 7,
   "id": "73085a0d",
   "metadata": {},
   "outputs": [
    {
     "name": "stdout",
     "output_type": "stream",
     "text": [
      "      CustomerId    Surname  CreditScore Geography  Gender   Age  Tenure  \\\n",
      "0       15634602   Hargrave          619    France  Female  42.0       2   \n",
      "1       15647311       Hill          608     Spain  Female  41.0       1   \n",
      "2       15619304       Onio          502    France  Female  42.0       8   \n",
      "3       15701354       Boni          699    France  Female  39.0       1   \n",
      "4       15737888   Mitchell          850     Spain  Female  43.0       2   \n",
      "...          ...        ...          ...       ...     ...   ...     ...   \n",
      "9995    15606229   Obijiaku          771    France    Male  39.0       5   \n",
      "9996    15569892  Johnstone          516    France    Male  35.0      10   \n",
      "9997    15584532        Liu          709    France  Female  36.0       7   \n",
      "9998    15682355  Sabbatini          772   Germany    Male  42.0       3   \n",
      "9999    15628319     Walker          792    France  Female  28.0       4   \n",
      "\n",
      "        Balance  NumOfProducts  HasCrCard  IsActiveMember  EstimatedSalary  \\\n",
      "0          0.00              1          1               1        101348.88   \n",
      "1      83807.86              1          0               1        112542.58   \n",
      "2     159660.80              3          1               0        113931.57   \n",
      "3          0.00              2          0               0         93826.63   \n",
      "4     125510.82              1          1               1         79084.10   \n",
      "...         ...            ...        ...             ...              ...   \n",
      "9995       0.00              2          1               0         96270.64   \n",
      "9996   57369.61              1          1               1        101699.77   \n",
      "9997       0.00              1          0               1         42085.58   \n",
      "9998   75075.31              2          1               0         92888.52   \n",
      "9999  130142.79              1          1               0         38190.78   \n",
      "\n",
      "      Exited  \n",
      "0          1  \n",
      "1          0  \n",
      "2          1  \n",
      "3          0  \n",
      "4          0  \n",
      "...      ...  \n",
      "9995       0  \n",
      "9996       0  \n",
      "9997       1  \n",
      "9998       1  \n",
      "9999       0  \n",
      "\n",
      "[10000 rows x 13 columns]\n"
     ]
    }
   ],
   "source": [
    "print(df.dropna(axis=1))"
   ]
  },
  {
   "cell_type": "code",
   "execution_count": 9,
   "id": "c94237ef",
   "metadata": {},
   "outputs": [
    {
     "name": "stdout",
     "output_type": "stream",
     "text": [
      "      RowNumber  CustomerId    Surname  CreditScore Geography  Gender   Age  \\\n",
      "0           0.0    15634602   Hargrave          619    France  Female  42.0   \n",
      "1           0.0    15647311       Hill          608     Spain  Female  41.0   \n",
      "2           0.0    15619304       Onio          502    France  Female  42.0   \n",
      "3           4.0    15701354       Boni          699    France  Female  39.0   \n",
      "4           5.0    15737888   Mitchell          850     Spain  Female  43.0   \n",
      "...         ...         ...        ...          ...       ...     ...   ...   \n",
      "9995     9996.0    15606229   Obijiaku          771    France    Male  39.0   \n",
      "9996     9997.0    15569892  Johnstone          516    France    Male  35.0   \n",
      "9997     9998.0    15584532        Liu          709    France  Female  36.0   \n",
      "9998     9999.0    15682355  Sabbatini          772   Germany    Male  42.0   \n",
      "9999    10000.0    15628319     Walker          792    France  Female  28.0   \n",
      "\n",
      "      Tenure    Balance  NumOfProducts  HasCrCard  IsActiveMember  \\\n",
      "0          2       0.00              1          1               1   \n",
      "1          1   83807.86              1          0               1   \n",
      "2          8  159660.80              3          1               0   \n",
      "3          1       0.00              2          0               0   \n",
      "4          2  125510.82              1          1               1   \n",
      "...      ...        ...            ...        ...             ...   \n",
      "9995       5       0.00              2          1               0   \n",
      "9996      10   57369.61              1          1               1   \n",
      "9997       7       0.00              1          0               1   \n",
      "9998       3   75075.31              2          1               0   \n",
      "9999       4  130142.79              1          1               0   \n",
      "\n",
      "      EstimatedSalary  Exited  \n",
      "0           101348.88       1  \n",
      "1           112542.58       0  \n",
      "2           113931.57       1  \n",
      "3            93826.63       0  \n",
      "4            79084.10       0  \n",
      "...               ...     ...  \n",
      "9995         96270.64       0  \n",
      "9996        101699.77       0  \n",
      "9997         42085.58       1  \n",
      "9998         92888.52       1  \n",
      "9999         38190.78       0  \n",
      "\n",
      "[10000 rows x 14 columns]\n"
     ]
    }
   ],
   "source": [
    "print(df.fillna(value=0))"
   ]
  },
  {
   "cell_type": "code",
   "execution_count": 10,
   "id": "32a55976",
   "metadata": {},
   "outputs": [
    {
     "name": "stdout",
     "output_type": "stream",
     "text": [
      "      RowNumber  CustomerId    Surname  CreditScore Geography  Gender   Age  \\\n",
      "0        5002.0    15634602   Hargrave          619    France  Female  42.0   \n",
      "1        5002.0    15647311       Hill          608     Spain  Female  41.0   \n",
      "2        5002.0    15619304       Onio          502    France  Female  42.0   \n",
      "3           4.0    15701354       Boni          699    France  Female  39.0   \n",
      "4           5.0    15737888   Mitchell          850     Spain  Female  43.0   \n",
      "...         ...         ...        ...          ...       ...     ...   ...   \n",
      "9995     9996.0    15606229   Obijiaku          771    France    Male  39.0   \n",
      "9996     9997.0    15569892  Johnstone          516    France    Male  35.0   \n",
      "9997     9998.0    15584532        Liu          709    France  Female  36.0   \n",
      "9998     9999.0    15682355  Sabbatini          772   Germany    Male  42.0   \n",
      "9999    10000.0    15628319     Walker          792    France  Female  28.0   \n",
      "\n",
      "      Tenure    Balance  NumOfProducts  HasCrCard  IsActiveMember  \\\n",
      "0          2       0.00              1          1               1   \n",
      "1          1   83807.86              1          0               1   \n",
      "2          8  159660.80              3          1               0   \n",
      "3          1       0.00              2          0               0   \n",
      "4          2  125510.82              1          1               1   \n",
      "...      ...        ...            ...        ...             ...   \n",
      "9995       5       0.00              2          1               0   \n",
      "9996      10   57369.61              1          1               1   \n",
      "9997       7       0.00              1          0               1   \n",
      "9998       3   75075.31              2          1               0   \n",
      "9999       4  130142.79              1          1               0   \n",
      "\n",
      "      EstimatedSalary  Exited  \n",
      "0           101348.88       1  \n",
      "1           112542.58       0  \n",
      "2           113931.57       1  \n",
      "3            93826.63       0  \n",
      "4            79084.10       0  \n",
      "...               ...     ...  \n",
      "9995         96270.64       0  \n",
      "9996        101699.77       0  \n",
      "9997         42085.58       1  \n",
      "9998         92888.52       1  \n",
      "9999         38190.78       0  \n",
      "\n",
      "[10000 rows x 14 columns]\n"
     ]
    },
    {
     "name": "stderr",
     "output_type": "stream",
     "text": [
      "C:\\Users\\Acer\\AppData\\Local\\Temp\\ipykernel_8228\\2700796277.py:1: FutureWarning: Dropping of nuisance columns in DataFrame reductions (with 'numeric_only=None') is deprecated; in a future version this will raise TypeError.  Select only valid columns before calling the reduction.\n",
      "  print(df.fillna(value=df.mean()) )\n"
     ]
    }
   ],
   "source": [
    "print(df.fillna(value=df.mean()) )"
   ]
  },
  {
   "cell_type": "code",
   "execution_count": 11,
   "id": "345ffe0c",
   "metadata": {},
   "outputs": [
    {
     "name": "stdout",
     "output_type": "stream",
     "text": [
      "      RowNumber  CustomerId  Surname  CreditScore  Geography  Gender    Age  \\\n",
      "0          True       False    False        False      False   False  False   \n",
      "1          True       False    False        False      False   False  False   \n",
      "2          True       False    False        False      False   False  False   \n",
      "3         False       False    False        False      False   False  False   \n",
      "4         False       False    False        False      False   False  False   \n",
      "...         ...         ...      ...          ...        ...     ...    ...   \n",
      "9995      False       False    False        False      False   False  False   \n",
      "9996      False       False    False        False      False   False  False   \n",
      "9997      False       False    False        False      False   False  False   \n",
      "9998      False       False    False        False      False   False  False   \n",
      "9999      False       False    False        False      False   False  False   \n",
      "\n",
      "      Tenure  Balance  NumOfProducts  HasCrCard  IsActiveMember  \\\n",
      "0      False    False          False      False           False   \n",
      "1      False    False          False      False           False   \n",
      "2      False    False          False      False           False   \n",
      "3      False    False          False      False           False   \n",
      "4      False    False          False      False           False   \n",
      "...      ...      ...            ...        ...             ...   \n",
      "9995   False    False          False      False           False   \n",
      "9996   False    False          False      False           False   \n",
      "9997   False    False          False      False           False   \n",
      "9998   False    False          False      False           False   \n",
      "9999   False    False          False      False           False   \n",
      "\n",
      "      EstimatedSalary  Exited  \n",
      "0               False   False  \n",
      "1               False   False  \n",
      "2               False   False  \n",
      "3               False   False  \n",
      "4               False   False  \n",
      "...               ...     ...  \n",
      "9995            False   False  \n",
      "9996            False   False  \n",
      "9997            False   False  \n",
      "9998            False   False  \n",
      "9999            False   False  \n",
      "\n",
      "[10000 rows x 14 columns]\n"
     ]
    }
   ],
   "source": [
    "print(df.isnull())"
   ]
  },
  {
   "cell_type": "code",
   "execution_count": 12,
   "id": "5dcbaa1f",
   "metadata": {},
   "outputs": [
    {
     "name": "stdout",
     "output_type": "stream",
     "text": [
      "RowNumber          3\n",
      "CustomerId         0\n",
      "Surname            0\n",
      "CreditScore        0\n",
      "Geography          0\n",
      "Gender             0\n",
      "Age                0\n",
      "Tenure             0\n",
      "Balance            0\n",
      "NumOfProducts      0\n",
      "HasCrCard          0\n",
      "IsActiveMember     0\n",
      "EstimatedSalary    0\n",
      "Exited             0\n",
      "dtype: int64\n"
     ]
    }
   ],
   "source": [
    "print(df.isnull().sum() )"
   ]
  },
  {
   "cell_type": "code",
   "execution_count": 13,
   "id": "0a1e2392",
   "metadata": {},
   "outputs": [
    {
     "name": "stdout",
     "output_type": "stream",
     "text": [
      "      RowNumber  CustomerId    Surname  CreditScore Geography  Gender   Age  \\\n",
      "0           NaN    15634602   Hargrave          619    France  Female  42.0   \n",
      "1           NaN    15647311       Hill          608     Spain  Female  41.0   \n",
      "2           NaN    15619304       Onio          502    France  Female  42.0   \n",
      "3           4.0    15701354       Boni          699    France  Female  39.0   \n",
      "4           5.0    15737888   Mitchell          850     Spain  Female  43.0   \n",
      "...         ...         ...        ...          ...       ...     ...   ...   \n",
      "9995     9996.0    15606229   Obijiaku          771    France    Male  39.0   \n",
      "9996     9997.0    15569892  Johnstone          516    France    Male  35.0   \n",
      "9997     9998.0    15584532        Liu          709    France  Female  36.0   \n",
      "9998     9999.0    15682355  Sabbatini          772   Germany    Male  42.0   \n",
      "9999    10000.0    15628319     Walker          792    France  Female  28.0   \n",
      "\n",
      "      Tenure    Balance  NumOfProducts  HasCrCard  IsActiveMember  \\\n",
      "0          2       0.00              1          1               1   \n",
      "1          1   83807.86              1          0               1   \n",
      "2          8  159660.80              3          1               0   \n",
      "3          1       0.00              2          0               0   \n",
      "4          2  125510.82              1          1               1   \n",
      "...      ...        ...            ...        ...             ...   \n",
      "9995       5       0.00              2          1               0   \n",
      "9996      10   57369.61              1          1               1   \n",
      "9997       7       0.00              1          0               1   \n",
      "9998       3   75075.31              2          1               0   \n",
      "9999       4  130142.79              1          1               0   \n",
      "\n",
      "      EstimatedSalary  Exited  \n",
      "0           101348.88       1  \n",
      "1           112542.58       0  \n",
      "2           113931.57       1  \n",
      "3            93826.63       0  \n",
      "4            79084.10       0  \n",
      "...               ...     ...  \n",
      "9995         96270.64       0  \n",
      "9996        101699.77       0  \n",
      "9997         42085.58       1  \n",
      "9998         92888.52       1  \n",
      "9999         38190.78       0  \n",
      "\n",
      "[10000 rows x 14 columns]\n"
     ]
    }
   ],
   "source": [
    "print(df.drop_duplicates() )"
   ]
  },
  {
   "cell_type": "code",
   "execution_count": 14,
   "id": "5e5a2bf7",
   "metadata": {},
   "outputs": [
    {
     "name": "stdout",
     "output_type": "stream",
     "text": [
      "   CustomerId  CreditScore Geography  Gender   Age  Tenure    Balance  \\\n",
      "0    15634602          619    France  Female  42.0       2       0.00   \n",
      "1    15647311          608     Spain  Female  41.0       1   83807.86   \n",
      "2    15619304          502    France  Female  42.0       8  159660.80   \n",
      "3    15701354          699    France  Female  39.0       1       0.00   \n",
      "4    15737888          850     Spain  Female  43.0       2  125510.82   \n",
      "\n",
      "   NumOfProducts  HasCrCard  IsActiveMember  EstimatedSalary  Exited  \n",
      "0              1          1               1        101348.88       1  \n",
      "1              1          0               1        112542.58       0  \n",
      "2              3          1               0        113931.57       1  \n",
      "3              2          0               0         93826.63       0  \n",
      "4              1          1               1         79084.10       0  \n"
     ]
    }
   ],
   "source": [
    "print(df.drop(['RowNumber', 'Surname'],axis=1).head(5) )"
   ]
  },
  {
   "cell_type": "code",
   "execution_count": 17,
   "id": "14d72fd8",
   "metadata": {},
   "outputs": [
    {
     "name": "stdout",
     "output_type": "stream",
     "text": [
      "      RowNumber  CustomerId      Surname  CreditScore Geography  Gender   Age  \\\n",
      "6443     6444.0    15764927       Rogova          753    France    Male  92.0   \n",
      "6759     6760.0    15660878        T'ien          705    France    Male  92.0   \n",
      "2458     2459.0    15813303      Rearick          513     Spain    Male  88.0   \n",
      "3033     3034.0    15578006          Yao          787    France  Female  85.0   \n",
      "3387     3388.0    15798024         Lori          537   Germany    Male  84.0   \n",
      "...         ...         ...          ...          ...       ...     ...   ...   \n",
      "9782     9783.0    15728829       Weigel          509    France    Male  18.0   \n",
      "2141     2142.0    15758372      Wallace          674    France    Male  18.0   \n",
      "9501     9502.0    15634146          Hou          835   Germany    Male  18.0   \n",
      "9520     9521.0    15673180  Onyekaozulu          727   Germany  Female  18.0   \n",
      "1619     1620.0    15770309     McDonald          656    France    Male  18.0   \n",
      "\n",
      "      Tenure    Balance  NumOfProducts  HasCrCard  IsActiveMember  \\\n",
      "6443       3  121513.31              1          0               1   \n",
      "6759       1  126076.24              2          1               1   \n",
      "2458      10       0.00              2          1               1   \n",
      "3033      10       0.00              2          1               1   \n",
      "3387       8   92242.34              1          1               1   \n",
      "...      ...        ...            ...        ...             ...   \n",
      "9782       7  102983.91              1          1               0   \n",
      "2141       7       0.00              2          1               1   \n",
      "9501       2  142872.36              1          1               1   \n",
      "9520       2   93816.70              2          1               0   \n",
      "1619      10  151762.74              1          0               1   \n",
      "\n",
      "      EstimatedSalary  Exited  \n",
      "6443        195563.99       0  \n",
      "6759         34436.83       0  \n",
      "2458         52952.24       0  \n",
      "3033        116537.96       0  \n",
      "3387        186235.98       0  \n",
      "...               ...     ...  \n",
      "9782        171770.58       0  \n",
      "2141         55753.12       1  \n",
      "9501        117632.63       0  \n",
      "9520        126172.11       0  \n",
      "1619        127014.32       0  \n",
      "\n",
      "[10000 rows x 14 columns]\n"
     ]
    }
   ],
   "source": [
    "print(df.sort_values('Age', ascending=False) )"
   ]
  },
  {
   "cell_type": "code",
   "execution_count": 18,
   "id": "1971c406",
   "metadata": {},
   "outputs": [
    {
     "name": "stdout",
     "output_type": "stream",
     "text": [
      "      RowNumber  CustomerId    Surname  CreditScore Geography  Gender   Age  \\\n",
      "6759     6760.0    15660878      T'ien          705    France    Male  92.0   \n",
      "6443     6444.0    15764927     Rogova          753    France    Male  92.0   \n",
      "2458     2459.0    15813303    Rearick          513     Spain    Male  88.0   \n",
      "3033     3034.0    15578006        Yao          787    France  Female  85.0   \n",
      "3531     3532.0    15653251     Hickey          408    France  Female  84.0   \n",
      "...         ...         ...        ...          ...       ...     ...   ...   \n",
      "2136     2137.0    15621893   Bellucci          727    France    Male  18.0   \n",
      "2021     2022.0    15795519   Vasiliev          716   Germany  Female  18.0   \n",
      "1678     1679.0    15569178  Kharlamov          570    France  Female  18.0   \n",
      "1619     1620.0    15770309   McDonald          656    France    Male  18.0   \n",
      "746       747.0    15787619      Hsieh          844    France    Male  18.0   \n",
      "\n",
      "      Tenure    Balance  NumOfProducts  HasCrCard  IsActiveMember  \\\n",
      "6759       1  126076.24              2          1               1   \n",
      "6443       3  121513.31              1          0               1   \n",
      "2458      10       0.00              2          1               1   \n",
      "3033      10       0.00              2          1               1   \n",
      "3531       8   87873.39              1          0               0   \n",
      "...      ...        ...            ...        ...             ...   \n",
      "2136       4  133550.67              1          1               1   \n",
      "2021       3  128743.80              1          0               0   \n",
      "1678       4   82767.42              1          1               0   \n",
      "1619      10  151762.74              1          0               1   \n",
      "746        2  160980.03              1          0               0   \n",
      "\n",
      "      EstimatedSalary  Exited  \n",
      "6759         34436.83       0  \n",
      "6443        195563.99       0  \n",
      "2458         52952.24       0  \n",
      "3033        116537.96       0  \n",
      "3531        188484.52       1  \n",
      "...               ...     ...  \n",
      "2136         46941.41       0  \n",
      "2021        197322.13       0  \n",
      "1678         71811.90       0  \n",
      "1619        127014.32       0  \n",
      "746         145936.28       0  \n",
      "\n",
      "[10000 rows x 14 columns]\n"
     ]
    }
   ],
   "source": [
    "print(df.sort_values(['Age','RowNumber'],ascending=[False,False]))\n"
   ]
  },
  {
   "cell_type": "code",
   "execution_count": 20,
   "id": "aa1f9040",
   "metadata": {},
   "outputs": [
    {
     "name": "stdout",
     "output_type": "stream",
     "text": [
      "      RowNumber  CustomerId     Surname  CreditScore Geography  Gender   Age  \\\n",
      "8779     8780.0    15650322  Grigoryeva          701    France  Female  34.0   \n",
      "9496     9497.0    15756992  Chukwukere          701    France    Male  37.0   \n",
      "7559     7560.0    15696120     Wallace          701     Spain  Female  30.0   \n",
      "1937     1938.0    15697879        Webb          701    France    Male  30.0   \n",
      "9300     9301.0    15591628      Davies          701   Germany    Male  41.0   \n",
      "...         ...         ...         ...          ...       ...     ...   ...   \n",
      "8692     8693.0    15755138        Chin          850    France  Female  32.0   \n",
      "4190     4191.0    15659568    Atkinson          850     Spain  Female  31.0   \n",
      "4222     4223.0    15627847    Woronoff          850    France    Male  40.0   \n",
      "4104     4105.0    15676571   Bezrukova          850    France    Male  55.0   \n",
      "4           5.0    15737888    Mitchell          850     Spain  Female  43.0   \n",
      "\n",
      "      Tenure    Balance  NumOfProducts  HasCrCard  IsActiveMember  \\\n",
      "8779       3  105588.66              1          0               1   \n",
      "9496       1       0.00              2          1               0   \n",
      "7559       2       0.00              2          1               0   \n",
      "1937       3  156660.72              2          1               0   \n",
      "9300       9  164046.10              1          1               0   \n",
      "...      ...        ...            ...        ...             ...   \n",
      "8692       8       0.00              2          1               1   \n",
      "4190       3  121237.65              1          1               1   \n",
      "4222       6       0.00              1          1               0   \n",
      "4104       6       0.00              1          1               0   \n",
      "4          2  125510.82              1          1               1   \n",
      "\n",
      "      EstimatedSalary  Exited  \n",
      "8779         74694.41       0  \n",
      "9496        163457.55       0  \n",
      "7559        115650.63       0  \n",
      "1937         45742.42       0  \n",
      "9300         49405.93       0  \n",
      "...               ...     ...  \n",
      "8692         55593.80       0  \n",
      "4190         31022.56       0  \n",
      "4222        136985.08       1  \n",
      "4104           944.41       1  \n",
      "4            79084.10       0  \n",
      "\n",
      "[3116 rows x 14 columns]\n"
     ]
    }
   ],
   "source": [
    "print(df[(df['CreditScore'] > 700) & (df['CreditScore'] < 900)].sort_values(['CreditScore'],ascending=True) )"
   ]
  },
  {
   "cell_type": "code",
   "execution_count": 24,
   "id": "10188d6c",
   "metadata": {},
   "outputs": [
    {
     "name": "stdout",
     "output_type": "stream",
     "text": [
      "        NumOfProducts  RowNumber\n",
      "Gender                          \n",
      "Female           4543       4540\n",
      "Male             5457       5457\n"
     ]
    }
   ],
   "source": [
    "print(df[['Gender','NumOfProducts','RowNumber']].groupby('Gender').count())"
   ]
  },
  {
   "cell_type": "code",
   "execution_count": 25,
   "id": "5f4ee6a0",
   "metadata": {},
   "outputs": [
    {
     "name": "stdout",
     "output_type": "stream",
     "text": [
      "      RowNumber  CustomerId    Surname  CreditScore Geography  Gender   Age  \\\n",
      "0           NaN    15634602   Hargrave          619    France  Female  42.0   \n",
      "1           NaN    15647311       Hill          608     Spain  Female  41.0   \n",
      "2           NaN    15619304       Onio          502    France  Female  42.0   \n",
      "3           4.0    15701354       Boni          699    France  Female  39.0   \n",
      "4           5.0    15737888   Mitchell          850     Spain  Female  43.0   \n",
      "...         ...         ...        ...          ...       ...     ...   ...   \n",
      "9995     9996.0    15606229   Obijiaku          771    France    Male  39.0   \n",
      "9996     9997.0    15569892  Johnstone          516    France    Male  35.0   \n",
      "9997     9998.0    15584532        Liu          709    France  Female  36.0   \n",
      "9998     9999.0    15682355  Sabbatini          772   Germany    Male  42.0   \n",
      "9999    10000.0    15628319     Walker          792    France  Female  28.0   \n",
      "\n",
      "      Tenure    Balance  NumOfProducts  HasCrCard  IsActiveMember  \\\n",
      "0          2       0.00              1          1               1   \n",
      "1          1   83807.86              1          0               1   \n",
      "2          8  159660.80              3          1               0   \n",
      "3          1       0.00              2          0               0   \n",
      "4          2  125510.82              1          1               1   \n",
      "...      ...        ...            ...        ...             ...   \n",
      "9995       5       0.00              2          1               0   \n",
      "9996      10   57369.61              1          1               1   \n",
      "9997       7       0.00              1          0               1   \n",
      "9998       3   75075.31              2          1               0   \n",
      "9999       4  130142.79              1          1               0   \n",
      "\n",
      "      EstimatedSalary  Exited Salary_level  \n",
      "0           101348.88       1         Gold  \n",
      "1           112542.58       0         Gold  \n",
      "2           113931.57       1         Gold  \n",
      "3            93826.63       0         Gold  \n",
      "4            79084.10       0       Silver  \n",
      "...               ...     ...          ...  \n",
      "9995         96270.64       0         Gold  \n",
      "9996        101699.77       0         Gold  \n",
      "9997         42085.58       1       Silver  \n",
      "9998         92888.52       1         Gold  \n",
      "9999         38190.78       0       Bronze  \n",
      "\n",
      "[10000 rows x 15 columns]\n"
     ]
    }
   ],
   "source": [
    "bin_labels_5 = ['Bronze', 'Silver', 'Gold', 'Platinum', 'Diamond']\n",
    "df['Salary_level'] = pd.qcut(df['EstimatedSalary'],q=5, labels=bin_labels_5)\n",
    "print(df)"
   ]
  },
  {
   "cell_type": "code",
   "execution_count": 26,
   "id": "176e00b9",
   "metadata": {},
   "outputs": [
    {
     "data": {
      "image/png": "[encoded data removed]",
      "text/plain": [
       "<Figure size 432x288 with 1 Axes>"
      ]
     },
     "metadata": {
      "needs_background": "light"
     },
     "output_type": "display_data"
    }
   ],
   "source": [
    "import matplotlib.pyplot as plt\n",
    "x=[1,2,3,4,5]\n",
    "y=[100,30,50,60,70]\n",
    "plt.plot(x,y)\n",
    "plt.show()"
   ]
  },
  {
   "cell_type": "code",
   "execution_count": 30,
   "id": "fbe1934b",
   "metadata": {},
   "outputs": [
    {
     "data": {
      "image/png": "[encoded data removed]",
      "text/plain": [
       "<Figure size 720x504 with 1 Axes>"
      ]
     },
     "metadata": {
      "needs_background": "light"
     },
     "output_type": "display_data"
    }
   ],
   "source": [
    "import matplotlib.pyplot as plt\n",
    "plt.figure(figsize=(10,7)) # 10 is width, 7 is height\n",
    "plt.plot([1,2,3,4,5], [1,2,3,4,10], 'go-.', label='GreenDots')  # green dots\n",
    "plt.plot([1,2,3,4,5], [2,3,4,5,11], 'b*', label='Bluestars')  # blue stars\n",
    "plt.title('A Simple Scatterplot', loc ='center')#left,right\n",
    "plt.xlabel('X')\n",
    "plt.ylabel('Y')\n",
    "plt.xlim(0, 6)\n",
    "plt.ylim(0, 12)\n",
    "plt.legend(loc='best')\n",
    "plt.show()\n"
   ]
  },
  {
   "cell_type": "code",
   "execution_count": 35,
   "id": "c5b68989",
   "metadata": {},
   "outputs": [
    {
     "data": {
      "image/png": "[encoded data removed]",
      "text/plain": [
       "<Figure size 432x288 with 2 Axes>"
      ]
     },
     "metadata": {
      "needs_background": "light"
     },
     "output_type": "display_data"
    }
   ],
   "source": [
    "import matplotlib.pyplot as plt\n",
    "import numpy as np\n",
    "x = np.array([0, 1, 2, 3])\n",
    "y = np.array([3, 8, 1, 10])\n",
    "plt.subplot(2, 2, 1)\n",
    "plt.plot(x,y)\n",
    "plt.title(\"SALES\")\n",
    "x = np.array([0, 1, 2, 3])\n",
    "y = np.array([10, 20, 30, 40])\n",
    "plt.subplot(2, 2, 4)\n",
    "plt.plot(x,y)\n",
    "plt.title(\"INCOME\")\n",
    "plt.suptitle(\"MY SHOP\")\n",
    "plt.show()"
   ]
  },
  {
   "cell_type": "code",
   "execution_count": 41,
   "id": "d03bf81a",
   "metadata": {},
   "outputs": [
    {
     "data": {
      "image/png": "[encoded data removed]",
      "text/plain": [
       "<Figure size 432x288 with 1 Axes>"
      ]
     },
     "metadata": {
      "needs_background": "light"
     },
     "output_type": "display_data"
    }
   ],
   "source": [
    "x = [3,1,3,12,2,4,4]\n",
    "y = [3,2,1,4,5,6,7]\n",
    "# This will plot a simple bar chart\n",
    "plt.barh(x, y) #barh for horizontal\n",
    "# Title to the plot\n",
    "plt.title(\"Bar Chart\")\n",
    "# Adding the legends\n",
    "plt.legend([\"bar\"])\n",
    "plt.show()\n"
   ]
  },
  {
   "cell_type": "code",
   "execution_count": 46,
   "id": "b1ecb7f9",
   "metadata": {},
   "outputs": [
    {
     "data": {
      "image/png": "[encoded data removed]",
      "text/plain": [
       "<Figure size 432x288 with 1 Axes>"
      ]
     },
     "metadata": {
      "needs_background": "light"
     },
     "output_type": "display_data"
    }
   ],
   "source": [
    "x =np.random.normal(150,10,250)\n",
    "plt.hist(x)#hist(x,bins=[1,2,3,4,5,6,7])\n",
    "plt.show()"
   ]
  },
  {
   "cell_type": "code",
   "execution_count": 47,
   "id": "eb6f82e3",
   "metadata": {},
   "outputs": [
    {
     "data": {
      "image/png": "[encoded data removed]",
      "text/plain": [
       "<Figure size 432x288 with 1 Axes>"
      ]
     },
     "metadata": {
      "needs_background": "light"
     },
     "output_type": "display_data"
    }
   ],
   "source": [
    "x = np.array([5,7,8,7,2,17,2,9,4,11,12,9,6])\n",
    "y = np.array([99,86,87,88,111,86,103,87,94,78,77,85,86])\n",
    "plt.scatter(x, y)\n",
    "plt.show()"
   ]
  },
  {
   "cell_type": "code",
   "execution_count": 53,
   "id": "2481a940",
   "metadata": {},
   "outputs": [
    {
     "data": {
      "image/png": "[encoded data removed]",
      "text/plain": [
       "<Figure size 432x288 with 1 Axes>"
      ]
     },
     "metadata": {},
     "output_type": "display_data"
    }
   ],
   "source": [
    "y = np.array([35,25,25,15])\n",
    "mylabels = [\"Apples\",\"Bananas\",\"Cherries\",\"Dates\"]\n",
    "myexplode = [0.2,0.1,0,0]\n",
    "plt.pie(y,labels =mylabels,explode =myexplode,shadow =False)\n",
    "plt.show()"
   ]
  },
  {
   "cell_type": "code",
   "execution_count": 54,
   "id": "c9898413",
   "metadata": {},
   "outputs": [
    {
     "data": {
      "image/png": "[encoded data removed]",
      "text/plain": [
       "<Figure size 576x504 with 1 Axes>"
      ]
     },
     "metadata": {
      "needs_background": "light"
     },
     "output_type": "display_data"
    }
   ],
   "source": [
    "data_1 = np.random.normal(100, 10, 200)\n",
    "data_2 = np.random.normal(90, 20, 200)\n",
    "data_3 = np.random.normal(80, 30, 200)\n",
    "data_4 = np.random.normal(70, 40, 200)\n",
    "data = [data_1, data_2, data_3, data_4]\n",
    "fig = plt.figure(figsize=(8, 7))\n",
    "plt.boxplot(data)\n",
    "plt.show()\n"
   ]
  },
  {
   "cell_type": "code",
   "execution_count": 55,
   "id": "c051a7fa",
   "metadata": {},
   "outputs": [
    {
     "name": "stdout",
     "output_type": "stream",
     "text": [
      "['anagrams', 'anscombe', 'attention', 'brain_networks', 'car_crashes', 'diamonds', 'dots', 'dowjones', 'exercise', 'flights', 'fmri', 'geyser', 'glue', 'healthexp', 'iris', 'mpg', 'penguins', 'planets', 'seaice', 'taxis', 'tips', 'titanic']\n",
      "   total_bill   tip     sex smoker  day    time  size\n",
      "0       16.99  1.01  Female     No  Sun  Dinner     2\n",
      "1       10.34  1.66    Male     No  Sun  Dinner     3\n",
      "2       21.01  3.50    Male     No  Sun  Dinner     3\n",
      "3       23.68  3.31    Male     No  Sun  Dinner     2\n",
      "4       24.59  3.61  Female     No  Sun  Dinner     4\n"
     ]
    }
   ],
   "source": [
    "import seaborn as sb\n",
    "print (sb.get_dataset_names()) #To view all the available data sets in the Seaborn(flights, iris, tips..)\n",
    "df = sb.load_dataset('tips')\n",
    "print (df.head())\n"
   ]
  },
  {
   "cell_type": "code",
   "execution_count": 57,
   "id": "564ea998",
   "metadata": {},
   "outputs": [
    {
     "data": {
      "image/png": "[encoded data removed]",
      "text/plain": [
       "<Figure size 432x288 with 1 Axes>"
      ]
     },
     "metadata": {},
     "output_type": "display_data"
    }
   ],
   "source": [
    "import seaborn as sns\n",
    "sns.set()#Apply default seaborn theme, scaling, and color palette.\n",
    "df = sns.load_dataset('car_crashes')\n",
    "plt.scatter(df.speeding,df.alcohol)\n",
    "plt.show()\n"
   ]
  },
  {
   "cell_type": "code",
   "execution_count": 63,
   "id": "33b5d018",
   "metadata": {},
   "outputs": [
    {
     "data": {
      "image/png": "[encoded data removed]",
      "text/plain": [
       "<Figure size 432x288 with 1 Axes>"
      ]
     },
     "metadata": {},
     "output_type": "display_data"
    }
   ],
   "source": [
    "sns.set_style(\"whitegrid\")\n",
    "sns.set_context(\"poster\")\n",
    "plt.scatter(df.speeding,df.alcohol)\n",
    "plt.show()"
   ]
  },
  {
   "cell_type": "code",
   "execution_count": 2,
   "id": "9af508df",
   "metadata": {},
   "outputs": [
    {
     "name": "stdout",
     "output_type": "stream",
     "text": [
      "     sepal_length  sepal_width  petal_length  petal_width    species\n",
      "0             5.1          3.5           1.4          0.2     setosa\n",
      "1             4.9          3.0           1.4          0.2     setosa\n",
      "2             4.7          3.2           1.3          0.2     setosa\n",
      "3             4.6          3.1           1.5          0.2     setosa\n",
      "4             5.0          3.6           1.4          0.2     setosa\n",
      "..            ...          ...           ...          ...        ...\n",
      "145           6.7          3.0           5.2          2.3  virginica\n",
      "146           6.3          2.5           5.0          1.9  virginica\n",
      "147           6.5          3.0           5.2          2.0  virginica\n",
      "148           6.2          3.4           5.4          2.3  virginica\n",
      "149           5.9          3.0           5.1          1.8  virginica\n",
      "\n",
      "[150 rows x 5 columns]\n"
     ]
    },
    {
     "name": "stderr",
     "output_type": "stream",
     "text": [
      "C:\\Users\\Acer\\anaconda3\\lib\\site-packages\\seaborn\\distributions.py:2619: FutureWarning: `distplot` is a deprecated function and will be removed in a future version. Please adapt your code to use either `displot` (a figure-level function with similar flexibility) or `histplot` (an axes-level function for histograms).\n",
      "  warnings.warn(msg, FutureWarning)\n"
     ]
    },
    {
     "data": {
      "image/png": "[encoded data removed]",
      "text/plain": [
       "<Figure size 432x288 with 1 Axes>"
      ]
     },
     "metadata": {
      "needs_background": "light"
     },
     "output_type": "display_data"
    }
   ],
   "source": [
    "import seaborn as sb\n",
    "from matplotlib import pyplot as plt\n",
    "df = sb.load_dataset('iris')\n",
    "print(df)\n",
    "sb.distplot(df['petal_length'],kde = True)\n",
    "plt.show()\n"
   ]
  },
  {
   "cell_type": "code",
   "execution_count": 5,
   "id": "fc1df980",
   "metadata": {},
   "outputs": [
    {
     "data": {
      "image/png": "[encoded data removed]",
      "text/plain": [
       "<Figure size 432x432 with 3 Axes>"
      ]
     },
     "metadata": {},
     "output_type": "display_data"
    }
   ],
   "source": [
    "import seaborn as sns\n",
    "import matplotlib.pyplot as plt\n",
    "sns.set_style(\"dark\")\n",
    "tips=sns.load_dataset('tips')\n",
    "sns.jointplot(x='total_bill', y='tip',data=tips, kind='hex')\n",
    "plt.show()\n"
   ]
  },
  {
   "cell_type": "code",
   "execution_count": 11,
   "id": "7729c3bb",
   "metadata": {},
   "outputs": [
    {
     "data": {
      "image/png": "[encoded data removed]",
      "text/plain": [
       "<Figure size 799.125x720 with 20 Axes>"
      ]
     },
     "metadata": {},
     "output_type": "display_data"
    }
   ],
   "source": [
    "df = sns.load_dataset('iris')\n",
    "sns.set_style(\"ticks\")\n",
    "sns.pairplot(df, hue = 'species',diag_kind = \"kde\",kind = \"scatter\",palette = \"husl\")\n",
    "plt.show()\n"
   ]
  },
  {
   "cell_type": "code",
   "execution_count": 13,
   "id": "a88f663e",
   "metadata": {},
   "outputs": [
    {
     "data": {
      "image/png": "[encoded data removed]",
      "text/plain": [
       "<Figure size 432x288 with 1 Axes>"
      ]
     },
     "metadata": {},
     "output_type": "display_data"
    }
   ],
   "source": [
    "df = sb.load_dataset('iris')\n",
    "sb.stripplot(x = \"species\", y = \"petal_length\", data = df, jitter=True)#jitter = Ture\n",
    "plt.show()#"
   ]
  },
  {
   "cell_type": "code",
   "execution_count": 16,
   "id": "3590495d",
   "metadata": {},
   "outputs": [
    {
     "name": "stderr",
     "output_type": "stream",
     "text": [
      "C:\\Users\\Acer\\anaconda3\\lib\\site-packages\\seaborn\\categorical.py:1296: UserWarning: 14.0% of the points cannot be placed; you may want to decrease the size of the markers or use stripplot.\n",
      "  warnings.warn(msg, UserWarning)\n"
     ]
    },
    {
     "data": {
      "image/png": "[encoded data removed]",
      "text/plain": [
       "<Figure size 432x288 with 1 Axes>"
      ]
     },
     "metadata": {},
     "output_type": "display_data"
    }
   ],
   "source": [
    "sb.swarmplot(x = \"species\", y = \"petal_length\", data = df) \n",
    "plt.show()\n"
   ]
  },
  {
   "cell_type": "code",
   "execution_count": 18,
   "id": "55ef2663",
   "metadata": {},
   "outputs": [
    {
     "data": {
      "text/plain": [
       "<AxesSubplot:xlabel='day', ylabel='total_bill'>"
      ]
     },
     "execution_count": 18,
     "metadata": {},
     "output_type": "execute_result"
    },
    {
     "data": {
      "image/png": "[encoded data removed]",
      "text/plain": [
       "<Figure size 432x288 with 1 Axes>"
      ]
     },
     "metadata": {},
     "output_type": "display_data"
    }
   ],
   "source": [
    "tips = sns.load_dataset(\"tips\")\n",
    "sns.violinplot(x=\"day\", y=\"total_bill\", data=tips)"
   ]
  },
  {
   "cell_type": "code",
   "execution_count": 24,
   "id": "b0eaac04",
   "metadata": {},
   "outputs": [
    {
     "data": {
      "image/png": "[encoded data removed]",
      "text/plain": [
       "<Figure size 432x288 with 1 Axes>"
      ]
     },
     "metadata": {},
     "output_type": "display_data"
    }
   ],
   "source": [
    "tips = sns.load_dataset(\"tips\")\n",
    "ax = sns.regplot(x=\"total_bill\", y=\"tip\", data=tips, ci=False, x_jitter=1) \n"
   ]
  },
  {
   "cell_type": "code",
   "execution_count": 28,
   "id": "96c10017",
   "metadata": {},
   "outputs": [
    {
     "data": {
      "text/plain": [
       "<AxesSubplot:xlabel='sepal_length', ylabel='Density'>"
      ]
     },
     "execution_count": 28,
     "metadata": {},
     "output_type": "execute_result"
    },
    {
     "data": {
      "image/png": "[encoded data removed]",
      "text/plain": [
       "<Figure size 432x288 with 1 Axes>"
      ]
     },
     "metadata": {},
     "output_type": "display_data"
    }
   ],
   "source": [
    "iris = sns.load_dataset(\"iris\")\n",
    "sns.kdeplot(iris.loc[(iris['species']=='setosa'),'sepal_length'], color='b', shade=True,legend='setosa') \n",
    "sns.kdeplot(iris.loc[(iris['species']=='virginica'),'sepal_length'], color='r', shade=True, legend='virginica')\n"
   ]
  },
  {
   "cell_type": "code",
   "execution_count": 30,
   "id": "0fabd17a",
   "metadata": {},
   "outputs": [
    {
     "name": "stdout",
     "output_type": "stream",
     "text": [
      "Feature names: ['sepal length (cm)', 'sepal width (cm)', 'petal length (cm)', 'petal width (cm)']\n",
      "Target names: ['setosa' 'versicolor' 'virginica']\n",
      "\n",
      "First 10 rows of X:\n",
      " [[5.1 3.5 1.4 0.2]\n",
      " [4.9 3.  1.4 0.2]\n",
      " [4.7 3.2 1.3 0.2]\n",
      " [4.6 3.1 1.5 0.2]\n",
      " [5.  3.6 1.4 0.2]\n",
      " [5.4 3.9 1.7 0.4]\n",
      " [4.6 3.4 1.4 0.3]\n",
      " [5.  3.4 1.5 0.2]\n",
      " [4.4 2.9 1.4 0.2]\n",
      " [4.9 3.1 1.5 0.1]]\n",
      "<module 'sklearn.datasets' from 'C:\\\\Users\\\\Acer\\\\anaconda3\\\\lib\\\\site-packages\\\\sklearn\\\\datasets\\\\__init__.py'>\n"
     ]
    }
   ],
   "source": [
    "from sklearn.datasets import load_iris\n",
    "from sklearn import datasets\n",
    "iris = load_iris()\n",
    "X = iris.data\n",
    "y = iris.target\n",
    "feature_names = iris.feature_names\n",
    "target_names = iris.target_names\n",
    "print(\"Feature names:\", feature_names)\n",
    "print(\"Target names:\", target_names)\n",
    "print(\"\\nFirst 10 rows of X:\\n\", X[:10])\n",
    "print(datasets.)"
   ]
  },
  {
   "cell_type": "code",
   "execution_count": 32,
   "id": "fe8cd702",
   "metadata": {},
   "outputs": [
    {
     "name": "stdout",
     "output_type": "stream",
     "text": [
      "     Gender  Age  Salary  Purchase Iphone\n",
      "0      Male   19   19000                0\n",
      "1      Male   35   20000                0\n",
      "2    Female   26   43000                0\n",
      "3    Female   27   57000                0\n",
      "4      Male   19   76000                0\n",
      "..      ...  ...     ...              ...\n",
      "395  Female   46   41000                1\n",
      "396    Male   51   23000                1\n",
      "397  Female   50   20000                1\n",
      "398    Male   36   33000                0\n",
      "399  Female   49   36000                1\n",
      "\n",
      "[400 rows x 4 columns]\n",
      "     Gender  Age  Salary  Purchase Iphone\n",
      "324  Female   48  131000                1\n",
      "184  Female   33   60000                0\n",
      "308    Male   36  125000                1\n",
      "374  Female   37   80000                0\n",
      "375  Female   46   32000                1\n",
      "254  Female   50   44000                0\n",
      "384  Female   57   33000                1\n",
      "302  Female   37  137000                1\n",
      "279  Female   50   36000                1\n",
      "21   Female   47   49000                1\n",
      "58     Male   22   18000                0\n",
      "74     Male   32   18000                0\n",
      "68   Female   22   63000                0\n",
      "259  Female   45  131000                1\n",
      "214    Male   47   43000                0\n",
      "230  Female   35  147000                1\n",
      "159  Female   32  135000                1\n",
      "295  Female   36   63000                0\n",
      "298    Male   45   79000                0\n",
      "377  Female   42   53000                0\n",
      "23   Female   45   22000                1\n",
      "331  Female   48  119000                1\n",
      "396    Male   51   23000                1\n",
      "325  Female   41   60000                0\n",
      "340  Female   53  104000                1\n",
      "178    Male   24   23000                0\n",
      "103  Female   33  149000                1\n",
      "173  Female   34   43000                0\n",
      "398    Male   36   33000                0\n",
      "342  Female   38   65000                0\n",
      "111  Female   37   71000                0\n",
      "393    Male   60   42000                1\n",
      "169  Female   29   47000                0\n",
      "95   Female   35   44000                0\n",
      "258  Female   58   95000                1\n",
      "199    Male   35   22000                0\n",
      "120  Female   36   75000                0\n",
      "210  Female   48   96000                1\n",
      "177    Male   25   22000                0\n",
      "108    Male   26   86000                0\n",
      "     Gender  Age  Salary  Purchase Iphone\n",
      "77   Female   22   27000                0\n",
      "72   Female   20   23000                0\n",
      "12     Male   20   86000                0\n",
      "69   Female   31   68000                0\n",
      "64   Female   59   83000                0\n",
      "356    Male   54   70000                1\n",
      "161    Male   25   90000                0\n",
      "115    Male   40   57000                0\n",
      "348    Male   39   77000                0\n",
      "203  Female   41   71000                0\n",
      "277    Male   49   88000                1\n",
      "381    Male   48   33000                1\n",
      "236    Male   40   57000                0\n",
      "101    Male   28   59000                0\n",
      "24     Male   46   23000                1\n"
     ]
    }
   ],
   "source": [
    "import pandas as pd\n",
    "data=pd.read_csv('iphone.csv')\n",
    "print(data)\n",
    "s=data.sample(frac=0.1)\n",
    "print(s)\n",
    "s=data.sample(n=15)\n",
    "print(s)"
   ]
  },
  {
   "cell_type": "code",
   "execution_count": 33,
   "id": "ca660443",
   "metadata": {},
   "outputs": [
    {
     "name": "stdout",
     "output_type": "stream",
     "text": [
      "     Gender  Age  Salary\n",
      "258  Female   58   95000\n",
      "177    Male   25   22000\n",
      "119    Male   41   59000\n",
      "194    Male   28   89000\n",
      "229  Female   42   80000\n",
      "..      ...  ...     ...\n",
      "71   Female   24   27000\n",
      "106  Female   26   35000\n",
      "270  Female   43  133000\n",
      "348    Male   39   77000\n",
      "102  Female   32   86000\n",
      "\n",
      "[268 rows x 3 columns] 258    1\n",
      "177    0\n",
      "119    0\n",
      "194    0\n",
      "229    1\n",
      "      ..\n",
      "71     0\n",
      "106    0\n",
      "270    0\n",
      "348    0\n",
      "102    0\n",
      "Name: Purchase Iphone, Length: 268, dtype: int64\n",
      "     Gender  Age  Salary\n",
      "209  Female   46   22000\n",
      "280  Female   59   88000\n",
      "33   Female   28   44000\n",
      "210  Female   48   96000\n",
      "93   Female   29   28000\n",
      "..      ...  ...     ...\n",
      "332    Male   42   65000\n",
      "167  Female   35   71000\n",
      "245  Female   51  146000\n",
      "311    Male   39   96000\n",
      "145  Female   24   89000\n",
      "\n",
      "[132 rows x 3 columns] 209    0\n",
      "280    1\n",
      "33     0\n",
      "210    1\n",
      "93     0\n",
      "      ..\n",
      "332    0\n",
      "167    0\n",
      "245    1\n",
      "311    1\n",
      "145    0\n",
      "Name: Purchase Iphone, Length: 132, dtype: int64\n"
     ]
    }
   ],
   "source": [
    "import sklearn.model_selection as sk\n",
    "x=data[['Gender',  'Age',  'Salary']]\n",
    "y=data['Purchase Iphone']\n",
    "x_train, x_test, y_train, y_test = sk.train_test_split( x, y, test_size=0.33, random_state=42)\n",
    "print(x_train, y_train)\n",
    "print(x_test,y_test)"
   ]
  },
  {
   "cell_type": "code",
   "execution_count": 2,
   "id": "08516e1b",
   "metadata": {},
   "outputs": [
    {
     "name": "stdout",
     "output_type": "stream",
     "text": [
      "['Muffin' 'Cupcake' 'Muffin' 'Scone' 'Muffin' 'Muffin' 'Cupcake' 'Muffin'\n",
      " 'Scone']\n",
      "8      Muffin\n",
      "16    Cupcake\n",
      "0      Muffin\n",
      "23      Scone\n",
      "11    Cupcake\n",
      "9      Muffin\n",
      "13    Cupcake\n",
      "1      Muffin\n",
      "22      Scone\n",
      "Name: Type, dtype: object\n",
      "Overall accuracy of the model is 88.89 percent\n",
      "Confusion matrix: \n",
      " [[2 1 0]\n",
      " [0 4 0]\n",
      " [0 0 2]]\n",
      "Classification report: \n",
      "               precision    recall  f1-score   support\n",
      "\n",
      "     Cupcake       1.00      0.67      0.80         3\n",
      "      Muffin       0.80      1.00      0.89         4\n",
      "       Scone       1.00      1.00      1.00         2\n",
      "\n",
      "    accuracy                           0.89         9\n",
      "   macro avg       0.93      0.89      0.90         9\n",
      "weighted avg       0.91      0.89      0.88         9\n",
      "\n",
      "0.8888888888888888\n"
     ]
    }
   ],
   "source": [
    "import pandas as pd\n",
    "from sklearn.metrics import accuracy_score\n",
    "import sklearn.model_selection as sk\n",
    "import numpy as np\n",
    "import sklearn.naive_bayes as nb\n",
    "import sklearn.metrics as mt\n",
    "from sklearn.metrics import roc_curve\n",
    "from sklearn.metrics import roc_auc_score\n",
    "def printModelSummary(actual, predicted):\n",
    "    '''Method to print out model summaries'''\n",
    "    print('Overall accuracy of the model is {0:.2f} percent'.format((actual == predicted).sum() / len(actual) * 100))\n",
    "    print('Confusion matrix: \\n', mt.confusion_matrix(actual, predicted))\n",
    "    print('Classification report: \\n', mt.classification_report(actual, predicted))\n",
    "    print(accuracy_score(actual, predicted))\n",
    "  \n",
    "\n",
    "data = pd.read_csv('muffin.csv')\n",
    "x = data[['Flour','Milk','Sugar']]\n",
    "y = data['Type']\n",
    "x_train, x_test, y_train, y_test = sk.train_test_split(x, y, test_size=0.33, random_state=42)\n",
    "cl = nb.GaussianNB()\n",
    "cl.fit(x_train, y_train)\n",
    "ypred=cl.predict(x_test)\n",
    "print(ypred)\n",
    "print(y_test)\n",
    "\n",
    "printModelSummary(y_test,ypred)"
   ]
  },
  {
   "cell_type": "code",
   "execution_count": 16,
   "id": "3d988f3f",
   "metadata": {},
   "outputs": [
    {
     "name": "stdout",
     "output_type": "stream",
     "text": [
      "   year   pop\n",
      "0  2000  1000\n",
      "1  2001  1500\n",
      "2  2002  2000\n",
      "3  2003  2500\n",
      "[4000.]\n"
     ]
    },
    {
     "name": "stderr",
     "output_type": "stream",
     "text": [
      "C:\\Users\\Acer\\anaconda3\\lib\\site-packages\\sklearn\\linear_model\\_base.py:141: FutureWarning: 'normalize' was deprecated in version 1.0 and will be removed in 1.2.\n",
      "If you wish to scale the data, use Pipeline with a StandardScaler in a preprocessing stage. To reproduce the previous behavior:\n",
      "\n",
      "from sklearn.pipeline import make_pipeline\n",
      "\n",
      "model = make_pipeline(StandardScaler(with_mean=False), LinearRegression())\n",
      "\n",
      "If you wish to pass a sample_weight parameter, you need to pass it as a fit parameter to each step of the pipeline as follows:\n",
      "\n",
      "kwargs = {s[0] + '__sample_weight': sample_weight for s in model.steps}\n",
      "model.fit(X, y, **kwargs)\n",
      "\n",
      "\n",
      "  warnings.warn(\n"
     ]
    }
   ],
   "source": [
    "from sklearn.linear_model import LinearRegression\n",
    "data=pd.read_csv('pop.csv')\n",
    "print(data)\n",
    "x=[[2000],[2001],[2002],[2003],[2004]]\n",
    "y=[1000,1500,2000,2500,3000]\n",
    "regr = LinearRegression(fit_intercept = True, normalize = True, copy_X = True, n_jobs = 2).fit(x,y)#Training the model\n",
    "print(regr.predict([[2006]])) #predict the value\n"
   ]
  },
  {
   "cell_type": "code",
   "execution_count": 17,
   "id": "aee27f61",
   "metadata": {},
   "outputs": [
    {
     "name": "stdout",
     "output_type": "stream",
     "text": [
      "8      Muffin\n",
      "16    Cupcake\n",
      "0      Muffin\n",
      "23      Scone\n",
      "11    Cupcake\n",
      "9      Muffin\n",
      "13    Cupcake\n",
      "1      Muffin\n",
      "22      Scone\n",
      "Name: Type, dtype: object\n",
      "['Muffin' 'Cupcake' 'Muffin' 'Scone' 'Muffin' 'Muffin' 'Cupcake' 'Muffin'\n",
      " 'Scone']\n"
     ]
    }
   ],
   "source": [
    "import sklearn.linear_model as lm\n",
    "\n",
    "data = pd.read_csv('muffin.csv')\n",
    "x = data[['Flour','Milk','Sugar']]\n",
    "y = data['Type']\n",
    "x_train, x_test, y_train, y_test = sk.train_test_split(x, y, test_size=0.33, random_state=42)\n",
    "print(y_test)\n",
    "logistic_classifier = lm.LogisticRegression()\n",
    "cl = logistic_classifier.fit(x_train, y_train)\n",
    "pred=cl.predict(x_test)\n",
    "print(pred)\n"
   ]
  },
  {
   "cell_type": "code",
   "execution_count": 24,
   "id": "30488bb7",
   "metadata": {},
   "outputs": [
    {
     "name": "stdout",
     "output_type": "stream",
     "text": [
      "8      Muffin\n",
      "16    Cupcake\n",
      "0      Muffin\n",
      "23      Scone\n",
      "11    Cupcake\n",
      "9      Muffin\n",
      "13    Cupcake\n",
      "1      Muffin\n",
      "22      Scone\n",
      "Name: Type, dtype: object\n",
      "['Cupcake' 'Cupcake' 'Cupcake' 'Cupcake' 'Cupcake' 'Cupcake' 'Cupcake'\n",
      " 'Cupcake' 'Cupcake']\n"
     ]
    }
   ],
   "source": [
    "import sklearn.svm as sv\n",
    "\n",
    "print(y_test)\n",
    "svm = sv.SVC(kernel='sigmoid',C=10.0)\n",
    "cl = svm.fit(x_train, y_train)\n",
    "pred=cl.predict(x_test)\n",
    "print(pred)\n"
   ]
  },
  {
   "cell_type": "code",
   "execution_count": 1,
   "id": "fa2311d0",
   "metadata": {},
   "outputs": [
    {
     "name": "stdout",
     "output_type": "stream",
     "text": [
      "8      Muffin\n",
      "16    Cupcake\n",
      "0      Muffin\n",
      "23      Scone\n",
      "11    Cupcake\n",
      "9      Muffin\n",
      "13    Cupcake\n",
      "1      Muffin\n",
      "22      Scone\n",
      "Name: Type, dtype: object\n",
      "['Muffin' 'Cupcake' 'Muffin' 'Scone' 'Muffin' 'Muffin' 'Muffin' 'Muffin'\n",
      " 'Scone']\n"
     ]
    }
   ],
   "source": [
    "import pandas as pd\n",
    "import sklearn.tree as s\n",
    "import sklearn.model_selection as sk\n",
    "data = pd.read_csv('muffin.csv')\n",
    "x = data[['Flour','Milk','Sugar']]\n",
    "y = data['Type']\n",
    "x_train, x_test, y_train, y_test = sk.train_test_split(x, y, test_size=0.33, random_state=42)\n",
    "print(y_test)\n",
    "tree = s.DecisionTreeClassifier(min_samples_split=10)\n",
    "cl = tree.fit(x_train, y_train)\n",
    "pred=cl.predict(x_test)\n",
    "print(pred)\n"
   ]
  },
  {
   "cell_type": "code",
   "execution_count": 5,
   "id": "04a40bab",
   "metadata": {},
   "outputs": [
    {
     "name": "stdout",
     "output_type": "stream",
     "text": [
      "8      Muffin\n",
      "16    Cupcake\n",
      "0      Muffin\n",
      "23      Scone\n",
      "11    Cupcake\n",
      "9      Muffin\n",
      "13    Cupcake\n",
      "1      Muffin\n",
      "22      Scone\n",
      "Name: Type, dtype: object\n",
      "['Muffin' 'Cupcake' 'Muffin' 'Scone' 'Muffin' 'Muffin' 'Muffin' 'Muffin'\n",
      " 'Scone']\n"
     ]
    }
   ],
   "source": [
    "import pandas as pd\n",
    "import sklearn.tree as s\n",
    "import sklearn.model_selection as sk\n",
    "import sklearn.metrics as mt\n",
    "import sklearn.ensemble as en\n",
    "data = pd.read_csv('muffin.csv')\n",
    "x = data[['Flour','Milk','Sugar']]\n",
    "y = data['Type']\n",
    "x_train, x_test, y_train, y_test = sk.train_test_split(x, y, test_size=0.33, random_state=42)\n",
    "print(y_test)\n",
    "forest = en.RandomForestClassifier( n_estimators=5)\n",
    "cl = forest.fit(x_train, y_train)\n",
    "pred=cl.predict(x_test)\n",
    "print(pred)\n"
   ]
  },
  {
   "cell_type": "code",
   "execution_count": 9,
   "id": "976c0555",
   "metadata": {},
   "outputs": [
    {
     "name": "stdout",
     "output_type": "stream",
     "text": [
      "8      Muffin\n",
      "16    Cupcake\n",
      "0      Muffin\n",
      "23      Scone\n",
      "11    Cupcake\n",
      "9      Muffin\n",
      "13    Cupcake\n",
      "1      Muffin\n",
      "22      Scone\n",
      "Name: Type, dtype: object\n",
      "[1 3 1 0 3 1 3 1 0]\n"
     ]
    }
   ],
   "source": [
    "import sklearn.cluster as cl\n",
    "print(y_test)\n",
    "kmeans = cl.KMeans(n_clusters=4,verbose=0,n_init=30)\n",
    "cl = kmeans.fit(x_train)\n",
    "pred=cl.predict(x_test)\n",
    "print(pred)\n"
   ]
  },
  {
   "cell_type": "code",
   "execution_count": 10,
   "id": "2cbfa090",
   "metadata": {},
   "outputs": [
    {
     "name": "stdout",
     "output_type": "stream",
     "text": [
      "8      Muffin\n",
      "16    Cupcake\n",
      "0      Muffin\n",
      "23      Scone\n",
      "11    Cupcake\n",
      "9      Muffin\n",
      "13    Cupcake\n",
      "1      Muffin\n",
      "22      Scone\n",
      "Name: Type, dtype: object\n",
      "11.209178219288066\n",
      "[1 0 1 4 0 1 0 1 4]\n"
     ]
    }
   ],
   "source": [
    "import pandas as pd\n",
    "import sklearn.cluster as cl\n",
    "import sklearn.model_selection as sk\n",
    "def findClusters_meanShift(data):\n",
    "    bandwidth = cl.estimate_bandwidth(data,quantile=0.25, n_samples=500)\n",
    "    print(bandwidth)\n",
    "    # create the classifier object\n",
    "    meanShift = cl.MeanShift(bandwidth=bandwidth,bin_seeding=True)\n",
    "    return meanShift.fit(data)\n",
    "\n",
    "data = pd.read_csv('muffin.csv')\n",
    "x = data[['Flour','Milk','Sugar']]\n",
    "y = data['Type']\n",
    "x_train, x_test, y_train, y_test = sk.train_test_split(x, y, test_size=0.33, random_state=42)\n",
    "print(y_test)\n",
    "cls = findClusters_meanShift(x_train)\n",
    "print(cls.predict(x_test))\n"
   ]
  },
  {
   "cell_type": "code",
   "execution_count": 13,
   "id": "94664214",
   "metadata": {},
   "outputs": [
    {
     "name": "stdout",
     "output_type": "stream",
     "text": [
      "[1 0 1 2 0 1 0 1 2]\n",
      "[1 0 1 2 1 1 0 1 2]\n"
     ]
    }
   ],
   "source": [
    "import pandas as pd\n",
    "import sklearn.neighbors as nb\n",
    "import sklearn.model_selection as sk\n",
    "from sklearn import preprocessing\n",
    "number = preprocessing.LabelEncoder()\n",
    "data = pd.read_csv('muffin.csv')\n",
    "x = data[['Flour','Milk','Sugar']]\n",
    "y = number.fit_transform(data['Type'])\n",
    "x_train, x_test, y_train, y_test = sk.train_test_split(x, y, test_size=0.33, random_state=42)\n",
    "knn = nb.KNeighborsClassifier(n_neighbors=2, algorithm='kd_tree')#nb.KNeighborsClassifier\n",
    "cl = knn.fit(x_train, y_train)\n",
    "print(y_test)\n",
    "pred=cl.predict(x_test)\n",
    "print(pred)\n"
   ]
  },
  {
   "cell_type": "code",
   "execution_count": 16,
   "id": "a08fd990",
   "metadata": {},
   "outputs": [
    {
     "name": "stdout",
     "output_type": "stream",
     "text": [
      "    Flour  Milk  Sugar\n",
      "5      55    27      3\n",
      "2      47    23     18\n",
      "12     34    17     20\n",
      "15     42    18     25\n",
      "3      45    11     17\n",
      "4      50    25     12\n",
      "20     29     3     46\n",
      "17     38    15     31\n",
      "21     19     3     36\n",
      "18     36    16     24\n",
      "24     19    10     51\n",
      "7      47    26     10\n",
      "10     39     0     26\n",
      "14     38    15     23\n",
      "19     34    17     23\n",
      "6      54    27      7\n",
      "[[-1.55732585  0.08236001]\n",
      " [-0.6208879  -0.55317181]\n",
      " [ 0.00686746 -0.30745453]\n",
      " [-0.07206127 -0.34642574]\n",
      " [-0.3223272   1.59629412]\n",
      " [-0.99828827 -0.3835873 ]\n",
      " [ 1.51110688  0.38646667]\n",
      " [ 0.35988586 -0.38893036]\n",
      " [ 1.43324731  0.43555769]\n",
      " [ 0.12421392 -0.25633815]\n",
      " [ 1.86463842 -1.76683428]\n",
      " [-1.00509521 -0.61350319]\n",
      " [ 0.47438434  2.72468265]\n",
      " [ 0.04435125  0.10095925]\n",
      " [ 0.12519293 -0.49116314]\n",
      " [-1.36790268 -0.21891189]]\n",
      "[[-0.47469983  1.55968518]\n",
      " [ 0.06811152 -1.0568685 ]\n",
      " [-1.2431654  -0.19283479]\n",
      " [ 1.61480373 -0.1482216 ]\n",
      " [-0.36049235 -0.8655961 ]\n",
      " [-0.47469983  1.55968518]\n",
      " [-0.13130373 -0.86665547]\n",
      " [-0.67038495 -0.47325738]\n",
      " [ 1.67183082  0.48406349]]\n",
      "[0.89388514 0.06791607]\n"
     ]
    }
   ],
   "source": [
    "import pandas as pd\n",
    "import sklearn.decomposition as dc\n",
    "import sklearn.model_selection as sk\n",
    "data = pd.read_csv('muffin.csv')\n",
    "x = data[['Flour','Milk','Sugar']]\n",
    "y = data['Type']\n",
    "x_train, x_test, y_train, y_test = sk.train_test_split(x, y, test_size=0.33, random_state=42)\n",
    "print(x_train)\n",
    "x_train_r = dc.PCA(n_components=2, whiten=True).fit(x_train)\n",
    "x_test_r = dc.PCA(n_components=2, whiten=True).fit(x_test)\n",
    "z=x_train_r.transform(x_train)\n",
    "ztest=x_test_r.transform(x_test)\n",
    "print(z)\n",
    "print(ztest)\n",
    "print(x_train_r.explained_variance_ratio_)\n"
   ]
  },
  {
   "cell_type": "code",
   "execution_count": 17,
   "id": "a7a4726f",
   "metadata": {},
   "outputs": [
    {
     "name": "stdout",
     "output_type": "stream",
     "text": [
      "0.96180121\n"
     ]
    }
   ],
   "source": [
    "print(0.89388514+ 0.06791607)"
   ]
  },
  {
   "cell_type": "code",
   "execution_count": 13,
   "id": "7bfb1d0d",
   "metadata": {},
   "outputs": [
    {
     "name": "stdout",
     "output_type": "stream",
     "text": [
      "8      Muffin\n",
      "16    Cupcake\n",
      "0      Muffin\n",
      "23      Scone\n",
      "11    Cupcake\n",
      "9      Muffin\n",
      "13    Cupcake\n",
      "1      Muffin\n",
      "22      Scone\n",
      "Name: Type, dtype: object\n",
      "['Muffin' 'Cupcake' 'Muffin' 'Scone' 'Muffin' 'Muffin' 'Muffin' 'Muffin'\n",
      " 'Scone']\n"
     ]
    },
    {
     "name": "stderr",
     "output_type": "stream",
     "text": [
      "C:\\Users\\Acer\\anaconda3\\lib\\site-packages\\sklearn\\neural_network\\_multilayer_perceptron.py:692: ConvergenceWarning: Stochastic Optimizer: Maximum iterations (500) reached and the optimization hasn't converged yet.\n",
      "  warnings.warn(\n"
     ]
    }
   ],
   "source": [
    "import pandas as pd\n",
    "from sklearn.neural_network import MLPClassifier\n",
    "from sklearn.model_selection import train_test_split\n",
    "data = pd.read_csv('muffin.csv')\n",
    "x = data[['Flour','Milk','Sugar']]\n",
    "y = data['Type']\n",
    "x_train, x_test, y_train, y_test = sk.train_test_split(x, y, test_size=0.33, random_state=42)\n",
    "print(y_test)\n",
    "mlp = MLPClassifier(hidden_layer_sizes=(4), activation='relu', solver='adam', max_iter=500)\n",
    "mlp.fit(x_train,y_train)\n",
    "predict_test = mlp.predict(x_test)\n",
    "print(predict_test)\n"
   ]
  },
  {
   "cell_type": "code",
   "execution_count": null,
   "id": "1115b1db",
   "metadata": {},
   "outputs": [],
   "source": []
  },
  {
   "cell_type": "code",
   "execution_count": null,
   "id": "bad37564",
   "metadata": {},
   "outputs": [],
   "source": []
  }
 ],
 "metadata": {
  "kernelspec": {
   "display_name": "Python 3 (ipykernel)",
   "language": "python",
   "name": "python3"
  },
  "language_info": {
   "codemirror_mode": {
    "name": "ipython",
    "version": 3
   },
   "file_extension": ".py",
   "mimetype": "text/x-python",
   "name": "python",
   "nbconvert_exporter": "python",
   "pygments_lexer": "ipython3",
   "version": "3.9.12"
  }
 },
 "nbformat": 4,
 "nbformat_minor": 5
}
